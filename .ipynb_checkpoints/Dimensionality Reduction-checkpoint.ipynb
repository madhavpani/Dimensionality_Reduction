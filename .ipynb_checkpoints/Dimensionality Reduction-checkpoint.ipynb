{
 "cells": [
  {
   "cell_type": "markdown",
   "id": "1927e6e6-5ff5-4410-94be-7bd361c4a95a",
   "metadata": {},
   "source": [
    "# Dimensionality Reduction"
   ]
  },
  {
   "cell_type": "markdown",
   "id": "17471189-2526-4eeb-935e-e95b532ce634",
   "metadata": {},
   "source": [
    "#### Import Libraries"
   ]
  },
  {
   "cell_type": "code",
   "execution_count": 1,
   "id": "bd079098-d957-46d2-996c-dca3e9e087f6",
   "metadata": {},
   "outputs": [],
   "source": [
    "import pandas as pd\n",
    "import numpy as np\n",
    "import matplotlib.pyplot as plt\n",
    "import seaborn as sns"
   ]
  },
  {
   "cell_type": "markdown",
   "id": "308db757-0a01-4e2c-adb7-89f9162fa093",
   "metadata": {},
   "source": [
    "#### Import Dataset"
   ]
  },
  {
   "cell_type": "code",
   "execution_count": 2,
   "id": "3a78e451-c358-4413-ade2-051f56d8df5a",
   "metadata": {},
   "outputs": [
    {
     "data": {
      "text/html": [
       "<div>\n",
       "<style scoped>\n",
       "    .dataframe tbody tr th:only-of-type {\n",
       "        vertical-align: middle;\n",
       "    }\n",
       "\n",
       "    .dataframe tbody tr th {\n",
       "        vertical-align: top;\n",
       "    }\n",
       "\n",
       "    .dataframe thead th {\n",
       "        text-align: right;\n",
       "    }\n",
       "</style>\n",
       "<table border=\"1\" class=\"dataframe\">\n",
       "  <thead>\n",
       "    <tr style=\"text-align: right;\">\n",
       "      <th></th>\n",
       "      <th>Country</th>\n",
       "      <th>Year</th>\n",
       "      <th>Status</th>\n",
       "      <th>Life expectancy</th>\n",
       "      <th>Adult Mortality</th>\n",
       "      <th>infant deaths</th>\n",
       "      <th>Alcohol</th>\n",
       "      <th>percentage expenditure</th>\n",
       "      <th>Hepatitis B</th>\n",
       "      <th>Measles</th>\n",
       "      <th>...</th>\n",
       "      <th>Polio</th>\n",
       "      <th>Total expenditure</th>\n",
       "      <th>Diphtheria</th>\n",
       "      <th>HIV/AIDS</th>\n",
       "      <th>GDP</th>\n",
       "      <th>Population</th>\n",
       "      <th>thinness  1-19 years</th>\n",
       "      <th>thinness 5-9 years</th>\n",
       "      <th>Income composition of resources</th>\n",
       "      <th>Schooling</th>\n",
       "    </tr>\n",
       "  </thead>\n",
       "  <tbody>\n",
       "    <tr>\n",
       "      <th>0</th>\n",
       "      <td>Afghanistan</td>\n",
       "      <td>2015</td>\n",
       "      <td>Developing</td>\n",
       "      <td>65.0</td>\n",
       "      <td>263.0</td>\n",
       "      <td>62</td>\n",
       "      <td>0.01</td>\n",
       "      <td>71.279624</td>\n",
       "      <td>65.0</td>\n",
       "      <td>1154</td>\n",
       "      <td>...</td>\n",
       "      <td>6.0</td>\n",
       "      <td>8.16</td>\n",
       "      <td>65.0</td>\n",
       "      <td>0.1</td>\n",
       "      <td>584.259210</td>\n",
       "      <td>33736494.0</td>\n",
       "      <td>17.2</td>\n",
       "      <td>17.3</td>\n",
       "      <td>0.479</td>\n",
       "      <td>10.1</td>\n",
       "    </tr>\n",
       "    <tr>\n",
       "      <th>1</th>\n",
       "      <td>Afghanistan</td>\n",
       "      <td>2014</td>\n",
       "      <td>Developing</td>\n",
       "      <td>59.9</td>\n",
       "      <td>271.0</td>\n",
       "      <td>64</td>\n",
       "      <td>0.01</td>\n",
       "      <td>73.523582</td>\n",
       "      <td>62.0</td>\n",
       "      <td>492</td>\n",
       "      <td>...</td>\n",
       "      <td>58.0</td>\n",
       "      <td>8.18</td>\n",
       "      <td>62.0</td>\n",
       "      <td>0.1</td>\n",
       "      <td>612.696514</td>\n",
       "      <td>327582.0</td>\n",
       "      <td>17.5</td>\n",
       "      <td>17.5</td>\n",
       "      <td>0.476</td>\n",
       "      <td>10.0</td>\n",
       "    </tr>\n",
       "    <tr>\n",
       "      <th>2</th>\n",
       "      <td>Afghanistan</td>\n",
       "      <td>2013</td>\n",
       "      <td>Developing</td>\n",
       "      <td>59.9</td>\n",
       "      <td>268.0</td>\n",
       "      <td>66</td>\n",
       "      <td>0.01</td>\n",
       "      <td>73.219243</td>\n",
       "      <td>64.0</td>\n",
       "      <td>430</td>\n",
       "      <td>...</td>\n",
       "      <td>62.0</td>\n",
       "      <td>8.13</td>\n",
       "      <td>64.0</td>\n",
       "      <td>0.1</td>\n",
       "      <td>631.744976</td>\n",
       "      <td>31731688.0</td>\n",
       "      <td>17.7</td>\n",
       "      <td>17.7</td>\n",
       "      <td>0.470</td>\n",
       "      <td>9.9</td>\n",
       "    </tr>\n",
       "  </tbody>\n",
       "</table>\n",
       "<p>3 rows × 22 columns</p>\n",
       "</div>"
      ],
      "text/plain": [
       "       Country  Year      Status  Life expectancy   Adult Mortality  \\\n",
       "0  Afghanistan  2015  Developing              65.0            263.0   \n",
       "1  Afghanistan  2014  Developing              59.9            271.0   \n",
       "2  Afghanistan  2013  Developing              59.9            268.0   \n",
       "\n",
       "   infant deaths  Alcohol  percentage expenditure  Hepatitis B  Measles   ...  \\\n",
       "0             62     0.01               71.279624         65.0      1154  ...   \n",
       "1             64     0.01               73.523582         62.0       492  ...   \n",
       "2             66     0.01               73.219243         64.0       430  ...   \n",
       "\n",
       "   Polio  Total expenditure  Diphtheria    HIV/AIDS         GDP  Population  \\\n",
       "0    6.0               8.16         65.0        0.1  584.259210  33736494.0   \n",
       "1   58.0               8.18         62.0        0.1  612.696514    327582.0   \n",
       "2   62.0               8.13         64.0        0.1  631.744976  31731688.0   \n",
       "\n",
       "    thinness  1-19 years   thinness 5-9 years  \\\n",
       "0                   17.2                 17.3   \n",
       "1                   17.5                 17.5   \n",
       "2                   17.7                 17.7   \n",
       "\n",
       "   Income composition of resources  Schooling  \n",
       "0                            0.479       10.1  \n",
       "1                            0.476       10.0  \n",
       "2                            0.470        9.9  \n",
       "\n",
       "[3 rows x 22 columns]"
      ]
     },
     "execution_count": 2,
     "metadata": {},
     "output_type": "execute_result"
    }
   ],
   "source": [
    "df = pd.read_csv('Life Expectancy Data.csv')\n",
    "df.head(3)"
   ]
  },
  {
   "cell_type": "code",
   "execution_count": 3,
   "id": "fbec1370-268f-4bb3-adff-a7392cc43d68",
   "metadata": {},
   "outputs": [],
   "source": [
    "df.drop(columns=['Country', 'Status'], inplace=True)"
   ]
  },
  {
   "cell_type": "markdown",
   "id": "54e7593d-fea0-4260-b01e-428b485b6681",
   "metadata": {},
   "source": [
    "#### Nulls Removing"
   ]
  },
  {
   "cell_type": "code",
   "execution_count": 4,
   "id": "17bdddab-5366-4e46-9613-f074459ab1d1",
   "metadata": {},
   "outputs": [],
   "source": [
    "import warnings\n",
    "warnings.filterwarnings('ignore')\n",
    "df.fillna(value=df.mean(), inplace = True)"
   ]
  },
  {
   "cell_type": "code",
   "execution_count": 5,
   "id": "b1413e30-d1ad-490a-815f-84c8d489d266",
   "metadata": {},
   "outputs": [
    {
     "data": {
      "text/plain": [
       "(2938, 20)"
      ]
     },
     "execution_count": 5,
     "metadata": {},
     "output_type": "execute_result"
    }
   ],
   "source": [
    "df.shape"
   ]
  },
  {
   "cell_type": "markdown",
   "id": "7bd93ab8-9d5b-4a55-bab2-302b18dfeccb",
   "metadata": {},
   "source": [
    "#### train_test_split"
   ]
  },
  {
   "cell_type": "code",
   "execution_count": 6,
   "id": "d753915e-6d7d-44e3-984c-c5566739f49d",
   "metadata": {},
   "outputs": [
    {
     "data": {
      "text/plain": [
       "((2350, 19), (588, 19), (2350,), (588,))"
      ]
     },
     "execution_count": 6,
     "metadata": {},
     "output_type": "execute_result"
    }
   ],
   "source": [
    "from sklearn.model_selection import train_test_split\n",
    "X_train, X_test, y_train, y_test = train_test_split(df.drop(columns='Life expectancy '), df['Life expectancy '], test_size=0.2, random_state=70)\n",
    "X_train.shape, X_test.shape, y_train.shape, y_test.shape"
   ]
  },
  {
   "cell_type": "markdown",
   "id": "17919370-c597-411c-ad8a-ab96ffe7e099",
   "metadata": {},
   "source": [
    "#### Scaling"
   ]
  },
  {
   "cell_type": "code",
   "execution_count": 7,
   "id": "ece51e58-d98b-4cd7-99e2-f1c128f75faf",
   "metadata": {},
   "outputs": [],
   "source": [
    "from sklearn.preprocessing import StandardScaler\n",
    "scaler = StandardScaler()\n",
    "X_train_scaled = scaler.fit_transform(X_train)\n",
    "X_test_scaled = scaler.transform(X_test)"
   ]
  },
  {
   "cell_type": "markdown",
   "id": "1c236133-f40b-41ab-95f8-97d204e9ec0e",
   "metadata": {},
   "source": [
    "#### Model Building and training"
   ]
  },
  {
   "cell_type": "code",
   "execution_count": 8,
   "id": "59197be5-c98a-4a45-af9d-051221d47df0",
   "metadata": {},
   "outputs": [
    {
     "data": {
      "text/html": [
       "<style>#sk-container-id-1 {color: black;background-color: white;}#sk-container-id-1 pre{padding: 0;}#sk-container-id-1 div.sk-toggleable {background-color: white;}#sk-container-id-1 label.sk-toggleable__label {cursor: pointer;display: block;width: 100%;margin-bottom: 0;padding: 0.3em;box-sizing: border-box;text-align: center;}#sk-container-id-1 label.sk-toggleable__label-arrow:before {content: \"▸\";float: left;margin-right: 0.25em;color: #696969;}#sk-container-id-1 label.sk-toggleable__label-arrow:hover:before {color: black;}#sk-container-id-1 div.sk-estimator:hover label.sk-toggleable__label-arrow:before {color: black;}#sk-container-id-1 div.sk-toggleable__content {max-height: 0;max-width: 0;overflow: hidden;text-align: left;background-color: #f0f8ff;}#sk-container-id-1 div.sk-toggleable__content pre {margin: 0.2em;color: black;border-radius: 0.25em;background-color: #f0f8ff;}#sk-container-id-1 input.sk-toggleable__control:checked~div.sk-toggleable__content {max-height: 200px;max-width: 100%;overflow: auto;}#sk-container-id-1 input.sk-toggleable__control:checked~label.sk-toggleable__label-arrow:before {content: \"▾\";}#sk-container-id-1 div.sk-estimator input.sk-toggleable__control:checked~label.sk-toggleable__label {background-color: #d4ebff;}#sk-container-id-1 div.sk-label input.sk-toggleable__control:checked~label.sk-toggleable__label {background-color: #d4ebff;}#sk-container-id-1 input.sk-hidden--visually {border: 0;clip: rect(1px 1px 1px 1px);clip: rect(1px, 1px, 1px, 1px);height: 1px;margin: -1px;overflow: hidden;padding: 0;position: absolute;width: 1px;}#sk-container-id-1 div.sk-estimator {font-family: monospace;background-color: #f0f8ff;border: 1px dotted black;border-radius: 0.25em;box-sizing: border-box;margin-bottom: 0.5em;}#sk-container-id-1 div.sk-estimator:hover {background-color: #d4ebff;}#sk-container-id-1 div.sk-parallel-item::after {content: \"\";width: 100%;border-bottom: 1px solid gray;flex-grow: 1;}#sk-container-id-1 div.sk-label:hover label.sk-toggleable__label {background-color: #d4ebff;}#sk-container-id-1 div.sk-serial::before {content: \"\";position: absolute;border-left: 1px solid gray;box-sizing: border-box;top: 0;bottom: 0;left: 50%;z-index: 0;}#sk-container-id-1 div.sk-serial {display: flex;flex-direction: column;align-items: center;background-color: white;padding-right: 0.2em;padding-left: 0.2em;position: relative;}#sk-container-id-1 div.sk-item {position: relative;z-index: 1;}#sk-container-id-1 div.sk-parallel {display: flex;align-items: stretch;justify-content: center;background-color: white;position: relative;}#sk-container-id-1 div.sk-item::before, #sk-container-id-1 div.sk-parallel-item::before {content: \"\";position: absolute;border-left: 1px solid gray;box-sizing: border-box;top: 0;bottom: 0;left: 50%;z-index: -1;}#sk-container-id-1 div.sk-parallel-item {display: flex;flex-direction: column;z-index: 1;position: relative;background-color: white;}#sk-container-id-1 div.sk-parallel-item:first-child::after {align-self: flex-end;width: 50%;}#sk-container-id-1 div.sk-parallel-item:last-child::after {align-self: flex-start;width: 50%;}#sk-container-id-1 div.sk-parallel-item:only-child::after {width: 0;}#sk-container-id-1 div.sk-dashed-wrapped {border: 1px dashed gray;margin: 0 0.4em 0.5em 0.4em;box-sizing: border-box;padding-bottom: 0.4em;background-color: white;}#sk-container-id-1 div.sk-label label {font-family: monospace;font-weight: bold;display: inline-block;line-height: 1.2em;}#sk-container-id-1 div.sk-label-container {text-align: center;}#sk-container-id-1 div.sk-container {/* jupyter's `normalize.less` sets `[hidden] { display: none; }` but bootstrap.min.css set `[hidden] { display: none !important; }` so we also need the `!important` here to be able to override the default hidden behavior on the sphinx rendered scikit-learn.org. See: https://github.com/scikit-learn/scikit-learn/issues/21755 */display: inline-block !important;position: relative;}#sk-container-id-1 div.sk-text-repr-fallback {display: none;}</style><div id=\"sk-container-id-1\" class=\"sk-top-container\"><div class=\"sk-text-repr-fallback\"><pre>SVR()</pre><b>In a Jupyter environment, please rerun this cell to show the HTML representation or trust the notebook. <br />On GitHub, the HTML representation is unable to render, please try loading this page with nbviewer.org.</b></div><div class=\"sk-container\" hidden><div class=\"sk-item\"><div class=\"sk-estimator sk-toggleable\"><input class=\"sk-toggleable__control sk-hidden--visually\" id=\"sk-estimator-id-1\" type=\"checkbox\" checked><label for=\"sk-estimator-id-1\" class=\"sk-toggleable__label sk-toggleable__label-arrow\">SVR</label><div class=\"sk-toggleable__content\"><pre>SVR()</pre></div></div></div></div></div>"
      ],
      "text/plain": [
       "SVR()"
      ]
     },
     "execution_count": 8,
     "metadata": {},
     "output_type": "execute_result"
    }
   ],
   "source": [
    "from sklearn.svm import SVR\n",
    "from sklearn.metrics import mean_squared_error, hinge_loss, r2_score\n",
    "\n",
    "svr = SVR()\n",
    "svr.fit(X_train_scaled, y_train)"
   ]
  },
  {
   "cell_type": "markdown",
   "id": "f7851e9a-f926-4b33-9138-9732383b9a41",
   "metadata": {},
   "source": [
    "#### Model Evaluation"
   ]
  },
  {
   "cell_type": "code",
   "execution_count": 9,
   "id": "d4835a23-51f5-4d81-b36e-fe5d354f356e",
   "metadata": {},
   "outputs": [
    {
     "data": {
      "text/html": [
       "<div>\n",
       "<style scoped>\n",
       "    .dataframe tbody tr th:only-of-type {\n",
       "        vertical-align: middle;\n",
       "    }\n",
       "\n",
       "    .dataframe tbody tr th {\n",
       "        vertical-align: top;\n",
       "    }\n",
       "\n",
       "    .dataframe thead th {\n",
       "        text-align: right;\n",
       "    }\n",
       "</style>\n",
       "<table border=\"1\" class=\"dataframe\">\n",
       "  <thead>\n",
       "    <tr style=\"text-align: right;\">\n",
       "      <th></th>\n",
       "      <th>svm</th>\n",
       "    </tr>\n",
       "  </thead>\n",
       "  <tbody>\n",
       "    <tr>\n",
       "      <th>R-squared Score</th>\n",
       "      <td>0.846243</td>\n",
       "    </tr>\n",
       "    <tr>\n",
       "      <th>MSE</th>\n",
       "      <td>13.544659</td>\n",
       "    </tr>\n",
       "  </tbody>\n",
       "</table>\n",
       "</div>"
      ],
      "text/plain": [
       "                       svm\n",
       "R-squared Score   0.846243\n",
       "MSE              13.544659"
      ]
     },
     "execution_count": 9,
     "metadata": {},
     "output_type": "execute_result"
    }
   ],
   "source": [
    "y_pred = svr.predict(X_test_scaled)\n",
    "evaluations = pd.DataFrame(index = ['R-squared Score', 'MSE'], columns=['svm'])\n",
    "evaluations.loc['R-squared Score', 'svm'] = svr.score(X_test_scaled, y_test)\n",
    "evaluations.loc['MSE', 'svm'] = mean_squared_error(y_test, y_pred)\n",
    "evaluations"
   ]
  },
  {
   "cell_type": "markdown",
   "id": "ef8d9982-f300-4f2d-88af-fdf4027a2cff",
   "metadata": {},
   "source": [
    "## Dimensionality Reduction Algorithms"
   ]
  },
  {
   "cell_type": "markdown",
   "id": "27be741a-240f-41ec-b10c-fe4e22c9d1a4",
   "metadata": {},
   "source": [
    "#### 1. Linear Discriminant Analysis (LDA)"
   ]
  },
  {
   "cell_type": "code",
   "execution_count": 10,
   "id": "7b41c341-f5b7-44c4-9416-5159dfd03c08",
   "metadata": {},
   "outputs": [
    {
     "data": {
      "text/plain": [
       "{'covariance_estimator': None,\n",
       " 'n_components': 3,\n",
       " 'priors': None,\n",
       " 'shrinkage': None,\n",
       " 'solver': 'svd',\n",
       " 'store_covariance': False,\n",
       " 'tol': 0.0001}"
      ]
     },
     "execution_count": 10,
     "metadata": {},
     "output_type": "execute_result"
    }
   ],
   "source": [
    "from sklearn.discriminant_analysis import LinearDiscriminantAnalysis\n",
    "lda = LinearDiscriminantAnalysis(n_components=3)\n",
    "lda.get_params()"
   ]
  },
  {
   "cell_type": "markdown",
   "id": "1d739507-063d-4398-89d8-39596f0edb16",
   "metadata": {},
   "source": [
    "#### LDA is a supervised ml algo used with categorical data, and is not used with Continous data."
   ]
  },
  {
   "cell_type": "markdown",
   "id": "655ef34f-7e6b-48eb-97ef-0b68e46e2a5a",
   "metadata": {},
   "source": [
    "#### 2. Neighborhood Component Analysis (NCA)"
   ]
  },
  {
   "cell_type": "code",
   "execution_count": 11,
   "id": "cb28db30-a249-4b86-931d-738c728c5175",
   "metadata": {},
   "outputs": [
    {
     "data": {
      "text/plain": [
       "{'callback': None,\n",
       " 'init': 'auto',\n",
       " 'max_iter': 50,\n",
       " 'n_components': 3,\n",
       " 'random_state': None,\n",
       " 'tol': 1e-05,\n",
       " 'verbose': 0,\n",
       " 'warm_start': False}"
      ]
     },
     "execution_count": 11,
     "metadata": {},
     "output_type": "execute_result"
    }
   ],
   "source": [
    "from sklearn.neighbors import NeighborhoodComponentsAnalysis\n",
    "nca = NeighborhoodComponentsAnalysis(n_components=3)\n",
    "nca.get_params()"
   ]
  },
  {
   "cell_type": "markdown",
   "id": "d7845dcf-f5c8-4dea-a489-0e657f344fbb",
   "metadata": {},
   "source": [
    "#### NCA is a supervised ml algo, used with categorical data."
   ]
  },
  {
   "cell_type": "markdown",
   "id": "04bb6e82-4fe9-4ffe-9176-e7f0cb8b2ab4",
   "metadata": {},
   "source": [
    "#### 3. PLSRegression"
   ]
  },
  {
   "cell_type": "code",
   "execution_count": 12,
   "id": "f18d493d-6e72-43b8-978b-12ef3d817e9d",
   "metadata": {},
   "outputs": [
    {
     "data": {
      "text/plain": [
       "{'copy': True, 'max_iter': 500, 'n_components': 3, 'scale': True, 'tol': 1e-06}"
      ]
     },
     "execution_count": 12,
     "metadata": {},
     "output_type": "execute_result"
    }
   ],
   "source": [
    "from sklearn.cross_decomposition import PLSRegression\n",
    "plsr = PLSRegression(n_components=3)\n",
    "plsr.get_params()"
   ]
  },
  {
   "cell_type": "markdown",
   "id": "17455fb4-c099-478e-82d2-9726a393458a",
   "metadata": {},
   "source": [
    "#### Dimensions Reduction with Cross-Decomposition (PLSRegression)"
   ]
  },
  {
   "cell_type": "code",
   "execution_count": 13,
   "id": "73d1b272-25a3-4d84-821c-21f90a66ec9d",
   "metadata": {},
   "outputs": [],
   "source": [
    "X_train_reduced = plsr.fit_transform(X_train_scaled, y_train)\n",
    "X_test_reduced = plsr.transform(X_test_scaled)"
   ]
  },
  {
   "cell_type": "code",
   "execution_count": 14,
   "id": "c93793c2-65da-47e7-8d8d-42164f5d66f5",
   "metadata": {},
   "outputs": [
    {
     "data": {
      "text/plain": [
       "((2350, 3), (3,))"
      ]
     },
     "execution_count": 14,
     "metadata": {},
     "output_type": "execute_result"
    }
   ],
   "source": [
    "X_train_reduced[0].shape, X_test_reduced[0].shape"
   ]
  },
  {
   "cell_type": "markdown",
   "id": "57996402-1149-4df5-befe-ffa1d6f7e264",
   "metadata": {},
   "source": [
    "#### SVM trained with data of reduced dimensions by plsregression"
   ]
  },
  {
   "cell_type": "code",
   "execution_count": 15,
   "id": "0cac0f70-ab44-4438-81fd-86653b78e067",
   "metadata": {},
   "outputs": [
    {
     "data": {
      "text/html": [
       "<style>#sk-container-id-2 {color: black;background-color: white;}#sk-container-id-2 pre{padding: 0;}#sk-container-id-2 div.sk-toggleable {background-color: white;}#sk-container-id-2 label.sk-toggleable__label {cursor: pointer;display: block;width: 100%;margin-bottom: 0;padding: 0.3em;box-sizing: border-box;text-align: center;}#sk-container-id-2 label.sk-toggleable__label-arrow:before {content: \"▸\";float: left;margin-right: 0.25em;color: #696969;}#sk-container-id-2 label.sk-toggleable__label-arrow:hover:before {color: black;}#sk-container-id-2 div.sk-estimator:hover label.sk-toggleable__label-arrow:before {color: black;}#sk-container-id-2 div.sk-toggleable__content {max-height: 0;max-width: 0;overflow: hidden;text-align: left;background-color: #f0f8ff;}#sk-container-id-2 div.sk-toggleable__content pre {margin: 0.2em;color: black;border-radius: 0.25em;background-color: #f0f8ff;}#sk-container-id-2 input.sk-toggleable__control:checked~div.sk-toggleable__content {max-height: 200px;max-width: 100%;overflow: auto;}#sk-container-id-2 input.sk-toggleable__control:checked~label.sk-toggleable__label-arrow:before {content: \"▾\";}#sk-container-id-2 div.sk-estimator input.sk-toggleable__control:checked~label.sk-toggleable__label {background-color: #d4ebff;}#sk-container-id-2 div.sk-label input.sk-toggleable__control:checked~label.sk-toggleable__label {background-color: #d4ebff;}#sk-container-id-2 input.sk-hidden--visually {border: 0;clip: rect(1px 1px 1px 1px);clip: rect(1px, 1px, 1px, 1px);height: 1px;margin: -1px;overflow: hidden;padding: 0;position: absolute;width: 1px;}#sk-container-id-2 div.sk-estimator {font-family: monospace;background-color: #f0f8ff;border: 1px dotted black;border-radius: 0.25em;box-sizing: border-box;margin-bottom: 0.5em;}#sk-container-id-2 div.sk-estimator:hover {background-color: #d4ebff;}#sk-container-id-2 div.sk-parallel-item::after {content: \"\";width: 100%;border-bottom: 1px solid gray;flex-grow: 1;}#sk-container-id-2 div.sk-label:hover label.sk-toggleable__label {background-color: #d4ebff;}#sk-container-id-2 div.sk-serial::before {content: \"\";position: absolute;border-left: 1px solid gray;box-sizing: border-box;top: 0;bottom: 0;left: 50%;z-index: 0;}#sk-container-id-2 div.sk-serial {display: flex;flex-direction: column;align-items: center;background-color: white;padding-right: 0.2em;padding-left: 0.2em;position: relative;}#sk-container-id-2 div.sk-item {position: relative;z-index: 1;}#sk-container-id-2 div.sk-parallel {display: flex;align-items: stretch;justify-content: center;background-color: white;position: relative;}#sk-container-id-2 div.sk-item::before, #sk-container-id-2 div.sk-parallel-item::before {content: \"\";position: absolute;border-left: 1px solid gray;box-sizing: border-box;top: 0;bottom: 0;left: 50%;z-index: -1;}#sk-container-id-2 div.sk-parallel-item {display: flex;flex-direction: column;z-index: 1;position: relative;background-color: white;}#sk-container-id-2 div.sk-parallel-item:first-child::after {align-self: flex-end;width: 50%;}#sk-container-id-2 div.sk-parallel-item:last-child::after {align-self: flex-start;width: 50%;}#sk-container-id-2 div.sk-parallel-item:only-child::after {width: 0;}#sk-container-id-2 div.sk-dashed-wrapped {border: 1px dashed gray;margin: 0 0.4em 0.5em 0.4em;box-sizing: border-box;padding-bottom: 0.4em;background-color: white;}#sk-container-id-2 div.sk-label label {font-family: monospace;font-weight: bold;display: inline-block;line-height: 1.2em;}#sk-container-id-2 div.sk-label-container {text-align: center;}#sk-container-id-2 div.sk-container {/* jupyter's `normalize.less` sets `[hidden] { display: none; }` but bootstrap.min.css set `[hidden] { display: none !important; }` so we also need the `!important` here to be able to override the default hidden behavior on the sphinx rendered scikit-learn.org. See: https://github.com/scikit-learn/scikit-learn/issues/21755 */display: inline-block !important;position: relative;}#sk-container-id-2 div.sk-text-repr-fallback {display: none;}</style><div id=\"sk-container-id-2\" class=\"sk-top-container\"><div class=\"sk-text-repr-fallback\"><pre>SVR()</pre><b>In a Jupyter environment, please rerun this cell to show the HTML representation or trust the notebook. <br />On GitHub, the HTML representation is unable to render, please try loading this page with nbviewer.org.</b></div><div class=\"sk-container\" hidden><div class=\"sk-item\"><div class=\"sk-estimator sk-toggleable\"><input class=\"sk-toggleable__control sk-hidden--visually\" id=\"sk-estimator-id-2\" type=\"checkbox\" checked><label for=\"sk-estimator-id-2\" class=\"sk-toggleable__label sk-toggleable__label-arrow\">SVR</label><div class=\"sk-toggleable__content\"><pre>SVR()</pre></div></div></div></div></div>"
      ],
      "text/plain": [
       "SVR()"
      ]
     },
     "execution_count": 15,
     "metadata": {},
     "output_type": "execute_result"
    }
   ],
   "source": [
    "svr.fit(X_train_reduced[0], y_train)"
   ]
  },
  {
   "cell_type": "markdown",
   "id": "6c1877ec-e681-40de-80ae-ed90819d33ee",
   "metadata": {},
   "source": [
    "#### Model Evaluation"
   ]
  },
  {
   "cell_type": "code",
   "execution_count": 16,
   "id": "df90a41f-703e-423d-9a12-5ec5e76a878f",
   "metadata": {},
   "outputs": [
    {
     "data": {
      "text/html": [
       "<div>\n",
       "<style scoped>\n",
       "    .dataframe tbody tr th:only-of-type {\n",
       "        vertical-align: middle;\n",
       "    }\n",
       "\n",
       "    .dataframe tbody tr th {\n",
       "        vertical-align: top;\n",
       "    }\n",
       "\n",
       "    .dataframe thead th {\n",
       "        text-align: right;\n",
       "    }\n",
       "</style>\n",
       "<table border=\"1\" class=\"dataframe\">\n",
       "  <thead>\n",
       "    <tr style=\"text-align: right;\">\n",
       "      <th></th>\n",
       "      <th>svm</th>\n",
       "      <th>pls</th>\n",
       "    </tr>\n",
       "  </thead>\n",
       "  <tbody>\n",
       "    <tr>\n",
       "      <th>R-squared Score</th>\n",
       "      <td>0.846243</td>\n",
       "      <td>0.802769</td>\n",
       "    </tr>\n",
       "    <tr>\n",
       "      <th>MSE</th>\n",
       "      <td>13.544659</td>\n",
       "      <td>17.374400</td>\n",
       "    </tr>\n",
       "  </tbody>\n",
       "</table>\n",
       "</div>"
      ],
      "text/plain": [
       "                       svm        pls\n",
       "R-squared Score   0.846243   0.802769\n",
       "MSE              13.544659  17.374400"
      ]
     },
     "execution_count": 16,
     "metadata": {},
     "output_type": "execute_result"
    }
   ],
   "source": [
    "y_pred = svr.predict(X_test_reduced)\n",
    "evaluations.loc['R-squared Score', 'pls'] = svr.score(X_test_reduced, y_test)\n",
    "evaluations.loc['MSE', 'pls'] = mean_squared_error(y_test, y_pred)\n",
    "evaluations"
   ]
  },
  {
   "cell_type": "markdown",
   "id": "7eddb7fb-b533-4428-b81d-11ab53f23475",
   "metadata": {},
   "source": [
    "#### PLSRegression is a supervised ml algo, it is fast, and Captured most of the features"
   ]
  },
  {
   "cell_type": "markdown",
   "id": "5dd1efe3-54cf-493b-a257-304323a312b2",
   "metadata": {},
   "source": [
    "#### 4. Isomap"
   ]
  },
  {
   "cell_type": "code",
   "execution_count": 17,
   "id": "c314a3d0-99ac-489d-862c-6753e7e5ce58",
   "metadata": {},
   "outputs": [
    {
     "data": {
      "text/plain": [
       "{'eigen_solver': 'auto',\n",
       " 'max_iter': None,\n",
       " 'metric': 'minkowski',\n",
       " 'metric_params': None,\n",
       " 'n_components': 3,\n",
       " 'n_jobs': None,\n",
       " 'n_neighbors': 5,\n",
       " 'neighbors_algorithm': 'auto',\n",
       " 'p': 2,\n",
       " 'path_method': 'auto',\n",
       " 'radius': None,\n",
       " 'tol': 0}"
      ]
     },
     "execution_count": 17,
     "metadata": {},
     "output_type": "execute_result"
    }
   ],
   "source": [
    "from sklearn.manifold import Isomap\n",
    "isomap = Isomap(n_components=3)\n",
    "isomap.get_params()"
   ]
  },
  {
   "cell_type": "markdown",
   "id": "e90b0a49-f269-40a3-ba12-24628ac023de",
   "metadata": {},
   "source": [
    "#### Dimension Reduction using Isomap"
   ]
  },
  {
   "cell_type": "code",
   "execution_count": 18,
   "id": "2dd88e84-64d7-4935-a0b3-c2f01aa6b06b",
   "metadata": {},
   "outputs": [
    {
     "data": {
      "text/plain": [
       "((2350, 3), (588, 3))"
      ]
     },
     "execution_count": 18,
     "metadata": {},
     "output_type": "execute_result"
    }
   ],
   "source": [
    "X_train_reduced = isomap.fit_transform(X_train_scaled)\n",
    "X_test_reduced = isomap.transform(X_test_scaled)\n",
    "X_train_reduced.shape, X_test_reduced.shape"
   ]
  },
  {
   "cell_type": "markdown",
   "id": "408dee7f-d13b-4345-ba4f-2726ac6e27a1",
   "metadata": {},
   "source": [
    "#### SVM training with dimension reduced data"
   ]
  },
  {
   "cell_type": "code",
   "execution_count": 19,
   "id": "b9b80ef1-40e8-415c-8438-bd4e78732846",
   "metadata": {},
   "outputs": [
    {
     "data": {
      "text/html": [
       "<style>#sk-container-id-3 {color: black;background-color: white;}#sk-container-id-3 pre{padding: 0;}#sk-container-id-3 div.sk-toggleable {background-color: white;}#sk-container-id-3 label.sk-toggleable__label {cursor: pointer;display: block;width: 100%;margin-bottom: 0;padding: 0.3em;box-sizing: border-box;text-align: center;}#sk-container-id-3 label.sk-toggleable__label-arrow:before {content: \"▸\";float: left;margin-right: 0.25em;color: #696969;}#sk-container-id-3 label.sk-toggleable__label-arrow:hover:before {color: black;}#sk-container-id-3 div.sk-estimator:hover label.sk-toggleable__label-arrow:before {color: black;}#sk-container-id-3 div.sk-toggleable__content {max-height: 0;max-width: 0;overflow: hidden;text-align: left;background-color: #f0f8ff;}#sk-container-id-3 div.sk-toggleable__content pre {margin: 0.2em;color: black;border-radius: 0.25em;background-color: #f0f8ff;}#sk-container-id-3 input.sk-toggleable__control:checked~div.sk-toggleable__content {max-height: 200px;max-width: 100%;overflow: auto;}#sk-container-id-3 input.sk-toggleable__control:checked~label.sk-toggleable__label-arrow:before {content: \"▾\";}#sk-container-id-3 div.sk-estimator input.sk-toggleable__control:checked~label.sk-toggleable__label {background-color: #d4ebff;}#sk-container-id-3 div.sk-label input.sk-toggleable__control:checked~label.sk-toggleable__label {background-color: #d4ebff;}#sk-container-id-3 input.sk-hidden--visually {border: 0;clip: rect(1px 1px 1px 1px);clip: rect(1px, 1px, 1px, 1px);height: 1px;margin: -1px;overflow: hidden;padding: 0;position: absolute;width: 1px;}#sk-container-id-3 div.sk-estimator {font-family: monospace;background-color: #f0f8ff;border: 1px dotted black;border-radius: 0.25em;box-sizing: border-box;margin-bottom: 0.5em;}#sk-container-id-3 div.sk-estimator:hover {background-color: #d4ebff;}#sk-container-id-3 div.sk-parallel-item::after {content: \"\";width: 100%;border-bottom: 1px solid gray;flex-grow: 1;}#sk-container-id-3 div.sk-label:hover label.sk-toggleable__label {background-color: #d4ebff;}#sk-container-id-3 div.sk-serial::before {content: \"\";position: absolute;border-left: 1px solid gray;box-sizing: border-box;top: 0;bottom: 0;left: 50%;z-index: 0;}#sk-container-id-3 div.sk-serial {display: flex;flex-direction: column;align-items: center;background-color: white;padding-right: 0.2em;padding-left: 0.2em;position: relative;}#sk-container-id-3 div.sk-item {position: relative;z-index: 1;}#sk-container-id-3 div.sk-parallel {display: flex;align-items: stretch;justify-content: center;background-color: white;position: relative;}#sk-container-id-3 div.sk-item::before, #sk-container-id-3 div.sk-parallel-item::before {content: \"\";position: absolute;border-left: 1px solid gray;box-sizing: border-box;top: 0;bottom: 0;left: 50%;z-index: -1;}#sk-container-id-3 div.sk-parallel-item {display: flex;flex-direction: column;z-index: 1;position: relative;background-color: white;}#sk-container-id-3 div.sk-parallel-item:first-child::after {align-self: flex-end;width: 50%;}#sk-container-id-3 div.sk-parallel-item:last-child::after {align-self: flex-start;width: 50%;}#sk-container-id-3 div.sk-parallel-item:only-child::after {width: 0;}#sk-container-id-3 div.sk-dashed-wrapped {border: 1px dashed gray;margin: 0 0.4em 0.5em 0.4em;box-sizing: border-box;padding-bottom: 0.4em;background-color: white;}#sk-container-id-3 div.sk-label label {font-family: monospace;font-weight: bold;display: inline-block;line-height: 1.2em;}#sk-container-id-3 div.sk-label-container {text-align: center;}#sk-container-id-3 div.sk-container {/* jupyter's `normalize.less` sets `[hidden] { display: none; }` but bootstrap.min.css set `[hidden] { display: none !important; }` so we also need the `!important` here to be able to override the default hidden behavior on the sphinx rendered scikit-learn.org. See: https://github.com/scikit-learn/scikit-learn/issues/21755 */display: inline-block !important;position: relative;}#sk-container-id-3 div.sk-text-repr-fallback {display: none;}</style><div id=\"sk-container-id-3\" class=\"sk-top-container\"><div class=\"sk-text-repr-fallback\"><pre>SVR()</pre><b>In a Jupyter environment, please rerun this cell to show the HTML representation or trust the notebook. <br />On GitHub, the HTML representation is unable to render, please try loading this page with nbviewer.org.</b></div><div class=\"sk-container\" hidden><div class=\"sk-item\"><div class=\"sk-estimator sk-toggleable\"><input class=\"sk-toggleable__control sk-hidden--visually\" id=\"sk-estimator-id-3\" type=\"checkbox\" checked><label for=\"sk-estimator-id-3\" class=\"sk-toggleable__label sk-toggleable__label-arrow\">SVR</label><div class=\"sk-toggleable__content\"><pre>SVR()</pre></div></div></div></div></div>"
      ],
      "text/plain": [
       "SVR()"
      ]
     },
     "execution_count": 19,
     "metadata": {},
     "output_type": "execute_result"
    }
   ],
   "source": [
    "svr.fit(X_train_reduced, y_train)"
   ]
  },
  {
   "cell_type": "markdown",
   "id": "8526d713-181d-47a8-b245-9e79868a8cb0",
   "metadata": {},
   "source": [
    "#### Model Evaluation"
   ]
  },
  {
   "cell_type": "code",
   "execution_count": 20,
   "id": "5185293a-d102-4189-94fe-7474a067eb11",
   "metadata": {},
   "outputs": [
    {
     "data": {
      "text/html": [
       "<div>\n",
       "<style scoped>\n",
       "    .dataframe tbody tr th:only-of-type {\n",
       "        vertical-align: middle;\n",
       "    }\n",
       "\n",
       "    .dataframe tbody tr th {\n",
       "        vertical-align: top;\n",
       "    }\n",
       "\n",
       "    .dataframe thead th {\n",
       "        text-align: right;\n",
       "    }\n",
       "</style>\n",
       "<table border=\"1\" class=\"dataframe\">\n",
       "  <thead>\n",
       "    <tr style=\"text-align: right;\">\n",
       "      <th></th>\n",
       "      <th>svm</th>\n",
       "      <th>pls</th>\n",
       "      <th>isomap</th>\n",
       "    </tr>\n",
       "  </thead>\n",
       "  <tbody>\n",
       "    <tr>\n",
       "      <th>R-squared Score</th>\n",
       "      <td>0.846243</td>\n",
       "      <td>0.802769</td>\n",
       "      <td>0.668215</td>\n",
       "    </tr>\n",
       "    <tr>\n",
       "      <th>MSE</th>\n",
       "      <td>13.544659</td>\n",
       "      <td>17.374400</td>\n",
       "      <td>29.227484</td>\n",
       "    </tr>\n",
       "  </tbody>\n",
       "</table>\n",
       "</div>"
      ],
      "text/plain": [
       "                       svm        pls     isomap\n",
       "R-squared Score   0.846243   0.802769   0.668215\n",
       "MSE              13.544659  17.374400  29.227484"
      ]
     },
     "execution_count": 20,
     "metadata": {},
     "output_type": "execute_result"
    }
   ],
   "source": [
    "y_pred = svr.predict(X_test_reduced)\n",
    "evaluations.loc['R-squared Score', 'isomap'] = svr.score(X_test_reduced, y_test)\n",
    "evaluations.loc['MSE', 'isomap'] = mean_squared_error(y_test, y_pred)\n",
    "evaluations"
   ]
  },
  {
   "cell_type": "markdown",
   "id": "73f5d900-8a59-4d1a-bec3-0e43ecc57a0a",
   "metadata": {},
   "source": [
    "#### Isomap is an Unsupervised Method, Used in Non-linear Dimensionality reduction, and it gave good results by capturing imp features."
   ]
  },
  {
   "cell_type": "markdown",
   "id": "0e595dea-b020-4f3a-8b30-fdf174378e28",
   "metadata": {},
   "source": [
    "#### 5. Locally Linear Embedding (LLE)"
   ]
  },
  {
   "cell_type": "code",
   "execution_count": 21,
   "id": "df8341d3-b4f1-45ca-b608-2cd11b73a90a",
   "metadata": {},
   "outputs": [
    {
     "data": {
      "text/plain": [
       "{'eigen_solver': 'auto',\n",
       " 'hessian_tol': 0.0001,\n",
       " 'max_iter': 100,\n",
       " 'method': 'standard',\n",
       " 'modified_tol': 1e-12,\n",
       " 'n_components': 3,\n",
       " 'n_jobs': None,\n",
       " 'n_neighbors': 5,\n",
       " 'neighbors_algorithm': 'auto',\n",
       " 'random_state': None,\n",
       " 'reg': 0.001,\n",
       " 'tol': 1e-06}"
      ]
     },
     "execution_count": 21,
     "metadata": {},
     "output_type": "execute_result"
    }
   ],
   "source": [
    "from sklearn.manifold import LocallyLinearEmbedding\n",
    "lle = LocallyLinearEmbedding(n_components=3)\n",
    "lle.get_params()"
   ]
  },
  {
   "cell_type": "markdown",
   "id": "db920506-44ee-44d5-93db-3c7764c29f1d",
   "metadata": {},
   "source": [
    "#### Dimension Reduction using LLE"
   ]
  },
  {
   "cell_type": "code",
   "execution_count": 22,
   "id": "8efca261-2324-4ee5-91d3-bc5e3433a719",
   "metadata": {},
   "outputs": [
    {
     "data": {
      "text/plain": [
       "((2350, 3), (588, 3))"
      ]
     },
     "execution_count": 22,
     "metadata": {},
     "output_type": "execute_result"
    }
   ],
   "source": [
    "X_train_reduced = lle.fit_transform(X_train_scaled)\n",
    "X_test_reduced = lle.transform(X_test_scaled)\n",
    "X_train_reduced.shape,X_test_reduced.shape"
   ]
  },
  {
   "cell_type": "markdown",
   "id": "136537db-e665-42c3-8c11-c44ee6cc4b06",
   "metadata": {},
   "source": [
    "#### SVM trained with dimension reduced data"
   ]
  },
  {
   "cell_type": "code",
   "execution_count": 23,
   "id": "bd4cea67-8495-4251-af85-1866c0843975",
   "metadata": {},
   "outputs": [
    {
     "data": {
      "text/html": [
       "<style>#sk-container-id-4 {color: black;background-color: white;}#sk-container-id-4 pre{padding: 0;}#sk-container-id-4 div.sk-toggleable {background-color: white;}#sk-container-id-4 label.sk-toggleable__label {cursor: pointer;display: block;width: 100%;margin-bottom: 0;padding: 0.3em;box-sizing: border-box;text-align: center;}#sk-container-id-4 label.sk-toggleable__label-arrow:before {content: \"▸\";float: left;margin-right: 0.25em;color: #696969;}#sk-container-id-4 label.sk-toggleable__label-arrow:hover:before {color: black;}#sk-container-id-4 div.sk-estimator:hover label.sk-toggleable__label-arrow:before {color: black;}#sk-container-id-4 div.sk-toggleable__content {max-height: 0;max-width: 0;overflow: hidden;text-align: left;background-color: #f0f8ff;}#sk-container-id-4 div.sk-toggleable__content pre {margin: 0.2em;color: black;border-radius: 0.25em;background-color: #f0f8ff;}#sk-container-id-4 input.sk-toggleable__control:checked~div.sk-toggleable__content {max-height: 200px;max-width: 100%;overflow: auto;}#sk-container-id-4 input.sk-toggleable__control:checked~label.sk-toggleable__label-arrow:before {content: \"▾\";}#sk-container-id-4 div.sk-estimator input.sk-toggleable__control:checked~label.sk-toggleable__label {background-color: #d4ebff;}#sk-container-id-4 div.sk-label input.sk-toggleable__control:checked~label.sk-toggleable__label {background-color: #d4ebff;}#sk-container-id-4 input.sk-hidden--visually {border: 0;clip: rect(1px 1px 1px 1px);clip: rect(1px, 1px, 1px, 1px);height: 1px;margin: -1px;overflow: hidden;padding: 0;position: absolute;width: 1px;}#sk-container-id-4 div.sk-estimator {font-family: monospace;background-color: #f0f8ff;border: 1px dotted black;border-radius: 0.25em;box-sizing: border-box;margin-bottom: 0.5em;}#sk-container-id-4 div.sk-estimator:hover {background-color: #d4ebff;}#sk-container-id-4 div.sk-parallel-item::after {content: \"\";width: 100%;border-bottom: 1px solid gray;flex-grow: 1;}#sk-container-id-4 div.sk-label:hover label.sk-toggleable__label {background-color: #d4ebff;}#sk-container-id-4 div.sk-serial::before {content: \"\";position: absolute;border-left: 1px solid gray;box-sizing: border-box;top: 0;bottom: 0;left: 50%;z-index: 0;}#sk-container-id-4 div.sk-serial {display: flex;flex-direction: column;align-items: center;background-color: white;padding-right: 0.2em;padding-left: 0.2em;position: relative;}#sk-container-id-4 div.sk-item {position: relative;z-index: 1;}#sk-container-id-4 div.sk-parallel {display: flex;align-items: stretch;justify-content: center;background-color: white;position: relative;}#sk-container-id-4 div.sk-item::before, #sk-container-id-4 div.sk-parallel-item::before {content: \"\";position: absolute;border-left: 1px solid gray;box-sizing: border-box;top: 0;bottom: 0;left: 50%;z-index: -1;}#sk-container-id-4 div.sk-parallel-item {display: flex;flex-direction: column;z-index: 1;position: relative;background-color: white;}#sk-container-id-4 div.sk-parallel-item:first-child::after {align-self: flex-end;width: 50%;}#sk-container-id-4 div.sk-parallel-item:last-child::after {align-self: flex-start;width: 50%;}#sk-container-id-4 div.sk-parallel-item:only-child::after {width: 0;}#sk-container-id-4 div.sk-dashed-wrapped {border: 1px dashed gray;margin: 0 0.4em 0.5em 0.4em;box-sizing: border-box;padding-bottom: 0.4em;background-color: white;}#sk-container-id-4 div.sk-label label {font-family: monospace;font-weight: bold;display: inline-block;line-height: 1.2em;}#sk-container-id-4 div.sk-label-container {text-align: center;}#sk-container-id-4 div.sk-container {/* jupyter's `normalize.less` sets `[hidden] { display: none; }` but bootstrap.min.css set `[hidden] { display: none !important; }` so we also need the `!important` here to be able to override the default hidden behavior on the sphinx rendered scikit-learn.org. See: https://github.com/scikit-learn/scikit-learn/issues/21755 */display: inline-block !important;position: relative;}#sk-container-id-4 div.sk-text-repr-fallback {display: none;}</style><div id=\"sk-container-id-4\" class=\"sk-top-container\"><div class=\"sk-text-repr-fallback\"><pre>SVR()</pre><b>In a Jupyter environment, please rerun this cell to show the HTML representation or trust the notebook. <br />On GitHub, the HTML representation is unable to render, please try loading this page with nbviewer.org.</b></div><div class=\"sk-container\" hidden><div class=\"sk-item\"><div class=\"sk-estimator sk-toggleable\"><input class=\"sk-toggleable__control sk-hidden--visually\" id=\"sk-estimator-id-4\" type=\"checkbox\" checked><label for=\"sk-estimator-id-4\" class=\"sk-toggleable__label sk-toggleable__label-arrow\">SVR</label><div class=\"sk-toggleable__content\"><pre>SVR()</pre></div></div></div></div></div>"
      ],
      "text/plain": [
       "SVR()"
      ]
     },
     "execution_count": 23,
     "metadata": {},
     "output_type": "execute_result"
    }
   ],
   "source": [
    "svr.fit(X_train_reduced, y_train)"
   ]
  },
  {
   "cell_type": "markdown",
   "id": "375846da-bf98-4bff-ba6b-02f14d84997b",
   "metadata": {},
   "source": [
    "#### Model Evaluation"
   ]
  },
  {
   "cell_type": "code",
   "execution_count": 24,
   "id": "bc9b7260-f16e-4a3b-93af-fcd9a7921358",
   "metadata": {},
   "outputs": [
    {
     "data": {
      "text/html": [
       "<div>\n",
       "<style scoped>\n",
       "    .dataframe tbody tr th:only-of-type {\n",
       "        vertical-align: middle;\n",
       "    }\n",
       "\n",
       "    .dataframe tbody tr th {\n",
       "        vertical-align: top;\n",
       "    }\n",
       "\n",
       "    .dataframe thead th {\n",
       "        text-align: right;\n",
       "    }\n",
       "</style>\n",
       "<table border=\"1\" class=\"dataframe\">\n",
       "  <thead>\n",
       "    <tr style=\"text-align: right;\">\n",
       "      <th></th>\n",
       "      <th>svm</th>\n",
       "      <th>pls</th>\n",
       "      <th>isomap</th>\n",
       "      <th>lle</th>\n",
       "    </tr>\n",
       "  </thead>\n",
       "  <tbody>\n",
       "    <tr>\n",
       "      <th>R-squared Score</th>\n",
       "      <td>0.846243</td>\n",
       "      <td>0.802769</td>\n",
       "      <td>0.668215</td>\n",
       "      <td>0.155191</td>\n",
       "    </tr>\n",
       "    <tr>\n",
       "      <th>MSE</th>\n",
       "      <td>13.544659</td>\n",
       "      <td>17.374400</td>\n",
       "      <td>29.227484</td>\n",
       "      <td>74.420566</td>\n",
       "    </tr>\n",
       "  </tbody>\n",
       "</table>\n",
       "</div>"
      ],
      "text/plain": [
       "                       svm        pls     isomap        lle\n",
       "R-squared Score   0.846243   0.802769   0.668215   0.155191\n",
       "MSE              13.544659  17.374400  29.227484  74.420566"
      ]
     },
     "execution_count": 24,
     "metadata": {},
     "output_type": "execute_result"
    }
   ],
   "source": [
    "y_pred = svr.predict(X_test_reduced)\n",
    "evaluations.loc['R-squared Score', 'lle'] = svr.score(X_test_reduced, y_test)\n",
    "evaluations.loc['MSE', 'lle'] = mean_squared_error(y_test, y_pred)\n",
    "evaluations"
   ]
  },
  {
   "cell_type": "markdown",
   "id": "309a0f11-cf9f-422d-8767-8772085cb9d6",
   "metadata": {},
   "source": [
    "#### LLE is an Unsupervised method, Used for dimensionality reduction which preserves distances within local neighbors, it gave poor result"
   ]
  },
  {
   "cell_type": "markdown",
   "id": "8d425ff7-9bf9-4074-a6cc-6b74ac3f83c3",
   "metadata": {},
   "source": [
    "#### 6. Spectral Embedding"
   ]
  },
  {
   "cell_type": "code",
   "execution_count": 25,
   "id": "e726caa8-b91a-4ab7-8c50-3ebe5244eba3",
   "metadata": {},
   "outputs": [
    {
     "data": {
      "text/plain": [
       "{'affinity': 'nearest_neighbors',\n",
       " 'eigen_solver': None,\n",
       " 'eigen_tol': 'auto',\n",
       " 'gamma': None,\n",
       " 'n_components': 3,\n",
       " 'n_jobs': None,\n",
       " 'n_neighbors': None,\n",
       " 'random_state': None}"
      ]
     },
     "execution_count": 25,
     "metadata": {},
     "output_type": "execute_result"
    }
   ],
   "source": [
    "from sklearn.manifold import SpectralEmbedding\n",
    "spec_emb = SpectralEmbedding(n_components=3)\n",
    "spec_emb.get_params()"
   ]
  },
  {
   "cell_type": "markdown",
   "id": "82affa94-faaf-464c-a187-b92783d7d7a1",
   "metadata": {},
   "source": [
    "#### Dimension Reduction using Spectral Embedding"
   ]
  },
  {
   "cell_type": "code",
   "execution_count": 26,
   "id": "b1daae0b-93ed-438b-80e9-a64de619c713",
   "metadata": {},
   "outputs": [
    {
     "data": {
      "text/plain": [
       "((2350, 3), (588, 3))"
      ]
     },
     "execution_count": 26,
     "metadata": {},
     "output_type": "execute_result"
    }
   ],
   "source": [
    "X_train_reduced = spec_emb.fit_transform(X_train_scaled)\n",
    "X_test_reduced = spec_emb.fit_transform(X_test_scaled)\n",
    "X_train_reduced.shape, X_test_reduced.shape"
   ]
  },
  {
   "cell_type": "markdown",
   "id": "7f29f9e8-bb8a-4718-846f-dada6bb99141",
   "metadata": {},
   "source": [
    "#### SVM trained with dimension reduced data"
   ]
  },
  {
   "cell_type": "code",
   "execution_count": 27,
   "id": "84d0cef1-c1cd-48ae-bed9-b30db6c4a66c",
   "metadata": {},
   "outputs": [
    {
     "data": {
      "text/html": [
       "<style>#sk-container-id-5 {color: black;background-color: white;}#sk-container-id-5 pre{padding: 0;}#sk-container-id-5 div.sk-toggleable {background-color: white;}#sk-container-id-5 label.sk-toggleable__label {cursor: pointer;display: block;width: 100%;margin-bottom: 0;padding: 0.3em;box-sizing: border-box;text-align: center;}#sk-container-id-5 label.sk-toggleable__label-arrow:before {content: \"▸\";float: left;margin-right: 0.25em;color: #696969;}#sk-container-id-5 label.sk-toggleable__label-arrow:hover:before {color: black;}#sk-container-id-5 div.sk-estimator:hover label.sk-toggleable__label-arrow:before {color: black;}#sk-container-id-5 div.sk-toggleable__content {max-height: 0;max-width: 0;overflow: hidden;text-align: left;background-color: #f0f8ff;}#sk-container-id-5 div.sk-toggleable__content pre {margin: 0.2em;color: black;border-radius: 0.25em;background-color: #f0f8ff;}#sk-container-id-5 input.sk-toggleable__control:checked~div.sk-toggleable__content {max-height: 200px;max-width: 100%;overflow: auto;}#sk-container-id-5 input.sk-toggleable__control:checked~label.sk-toggleable__label-arrow:before {content: \"▾\";}#sk-container-id-5 div.sk-estimator input.sk-toggleable__control:checked~label.sk-toggleable__label {background-color: #d4ebff;}#sk-container-id-5 div.sk-label input.sk-toggleable__control:checked~label.sk-toggleable__label {background-color: #d4ebff;}#sk-container-id-5 input.sk-hidden--visually {border: 0;clip: rect(1px 1px 1px 1px);clip: rect(1px, 1px, 1px, 1px);height: 1px;margin: -1px;overflow: hidden;padding: 0;position: absolute;width: 1px;}#sk-container-id-5 div.sk-estimator {font-family: monospace;background-color: #f0f8ff;border: 1px dotted black;border-radius: 0.25em;box-sizing: border-box;margin-bottom: 0.5em;}#sk-container-id-5 div.sk-estimator:hover {background-color: #d4ebff;}#sk-container-id-5 div.sk-parallel-item::after {content: \"\";width: 100%;border-bottom: 1px solid gray;flex-grow: 1;}#sk-container-id-5 div.sk-label:hover label.sk-toggleable__label {background-color: #d4ebff;}#sk-container-id-5 div.sk-serial::before {content: \"\";position: absolute;border-left: 1px solid gray;box-sizing: border-box;top: 0;bottom: 0;left: 50%;z-index: 0;}#sk-container-id-5 div.sk-serial {display: flex;flex-direction: column;align-items: center;background-color: white;padding-right: 0.2em;padding-left: 0.2em;position: relative;}#sk-container-id-5 div.sk-item {position: relative;z-index: 1;}#sk-container-id-5 div.sk-parallel {display: flex;align-items: stretch;justify-content: center;background-color: white;position: relative;}#sk-container-id-5 div.sk-item::before, #sk-container-id-5 div.sk-parallel-item::before {content: \"\";position: absolute;border-left: 1px solid gray;box-sizing: border-box;top: 0;bottom: 0;left: 50%;z-index: -1;}#sk-container-id-5 div.sk-parallel-item {display: flex;flex-direction: column;z-index: 1;position: relative;background-color: white;}#sk-container-id-5 div.sk-parallel-item:first-child::after {align-self: flex-end;width: 50%;}#sk-container-id-5 div.sk-parallel-item:last-child::after {align-self: flex-start;width: 50%;}#sk-container-id-5 div.sk-parallel-item:only-child::after {width: 0;}#sk-container-id-5 div.sk-dashed-wrapped {border: 1px dashed gray;margin: 0 0.4em 0.5em 0.4em;box-sizing: border-box;padding-bottom: 0.4em;background-color: white;}#sk-container-id-5 div.sk-label label {font-family: monospace;font-weight: bold;display: inline-block;line-height: 1.2em;}#sk-container-id-5 div.sk-label-container {text-align: center;}#sk-container-id-5 div.sk-container {/* jupyter's `normalize.less` sets `[hidden] { display: none; }` but bootstrap.min.css set `[hidden] { display: none !important; }` so we also need the `!important` here to be able to override the default hidden behavior on the sphinx rendered scikit-learn.org. See: https://github.com/scikit-learn/scikit-learn/issues/21755 */display: inline-block !important;position: relative;}#sk-container-id-5 div.sk-text-repr-fallback {display: none;}</style><div id=\"sk-container-id-5\" class=\"sk-top-container\"><div class=\"sk-text-repr-fallback\"><pre>SVR()</pre><b>In a Jupyter environment, please rerun this cell to show the HTML representation or trust the notebook. <br />On GitHub, the HTML representation is unable to render, please try loading this page with nbviewer.org.</b></div><div class=\"sk-container\" hidden><div class=\"sk-item\"><div class=\"sk-estimator sk-toggleable\"><input class=\"sk-toggleable__control sk-hidden--visually\" id=\"sk-estimator-id-5\" type=\"checkbox\" checked><label for=\"sk-estimator-id-5\" class=\"sk-toggleable__label sk-toggleable__label-arrow\">SVR</label><div class=\"sk-toggleable__content\"><pre>SVR()</pre></div></div></div></div></div>"
      ],
      "text/plain": [
       "SVR()"
      ]
     },
     "execution_count": 27,
     "metadata": {},
     "output_type": "execute_result"
    }
   ],
   "source": [
    "svr.fit(X_train_reduced, y_train)"
   ]
  },
  {
   "cell_type": "markdown",
   "id": "ded270ab-038a-4b65-abd9-1840d3be5763",
   "metadata": {},
   "source": [
    "#### Model Evaluation"
   ]
  },
  {
   "cell_type": "code",
   "execution_count": 28,
   "id": "e292c7b5-2095-449e-b237-677c47398d1f",
   "metadata": {},
   "outputs": [
    {
     "data": {
      "text/html": [
       "<div>\n",
       "<style scoped>\n",
       "    .dataframe tbody tr th:only-of-type {\n",
       "        vertical-align: middle;\n",
       "    }\n",
       "\n",
       "    .dataframe tbody tr th {\n",
       "        vertical-align: top;\n",
       "    }\n",
       "\n",
       "    .dataframe thead th {\n",
       "        text-align: right;\n",
       "    }\n",
       "</style>\n",
       "<table border=\"1\" class=\"dataframe\">\n",
       "  <thead>\n",
       "    <tr style=\"text-align: right;\">\n",
       "      <th></th>\n",
       "      <th>svm</th>\n",
       "      <th>pls</th>\n",
       "      <th>isomap</th>\n",
       "      <th>lle</th>\n",
       "      <th>spec_emb</th>\n",
       "    </tr>\n",
       "  </thead>\n",
       "  <tbody>\n",
       "    <tr>\n",
       "      <th>R-squared Score</th>\n",
       "      <td>0.846243</td>\n",
       "      <td>0.802769</td>\n",
       "      <td>0.668215</td>\n",
       "      <td>0.155191</td>\n",
       "      <td>-0.107422</td>\n",
       "    </tr>\n",
       "    <tr>\n",
       "      <th>MSE</th>\n",
       "      <td>13.544659</td>\n",
       "      <td>17.374400</td>\n",
       "      <td>29.227484</td>\n",
       "      <td>74.420566</td>\n",
       "      <td>97.554612</td>\n",
       "    </tr>\n",
       "  </tbody>\n",
       "</table>\n",
       "</div>"
      ],
      "text/plain": [
       "                       svm        pls     isomap        lle   spec_emb\n",
       "R-squared Score   0.846243   0.802769   0.668215   0.155191  -0.107422\n",
       "MSE              13.544659  17.374400  29.227484  74.420566  97.554612"
      ]
     },
     "execution_count": 28,
     "metadata": {},
     "output_type": "execute_result"
    }
   ],
   "source": [
    "y_pred = svr.predict(X_test_reduced)\n",
    "evaluations.loc['R-squared Score', 'spec_emb'] = svr.score(X_test_reduced, y_test)\n",
    "evaluations.loc['MSE', 'spec_emb'] = mean_squared_error(y_test, y_pred)\n",
    "evaluations"
   ]
  },
  {
   "cell_type": "markdown",
   "id": "66e0f133-1b35-4533-b1c9-b5535308cd38",
   "metadata": {},
   "source": [
    "#### Spectral embedding is an unsupervised method used for non-linear dimensionality reduction,it gave poor results"
   ]
  },
  {
   "cell_type": "markdown",
   "id": "130b5123-84ca-44c5-8e83-8b8ea4c361d5",
   "metadata": {},
   "source": [
    "#### 7. t-Stochastic Neighbor Embedding (TSNE)"
   ]
  },
  {
   "cell_type": "code",
   "execution_count": 34,
   "id": "fa4d7cc3-b2c9-49b2-8bac-20c42be8f75b",
   "metadata": {},
   "outputs": [
    {
     "data": {
      "text/plain": [
       "{'angle': 0.5,\n",
       " 'early_exaggeration': 12.0,\n",
       " 'init': 'pca',\n",
       " 'learning_rate': 'auto',\n",
       " 'method': 'barnes_hut',\n",
       " 'metric': 'euclidean',\n",
       " 'metric_params': None,\n",
       " 'min_grad_norm': 1e-07,\n",
       " 'n_components': 3,\n",
       " 'n_iter': 1000,\n",
       " 'n_iter_without_progress': 300,\n",
       " 'n_jobs': None,\n",
       " 'perplexity': 30.0,\n",
       " 'random_state': None,\n",
       " 'square_distances': 'deprecated',\n",
       " 'verbose': 0}"
      ]
     },
     "execution_count": 34,
     "metadata": {},
     "output_type": "execute_result"
    }
   ],
   "source": [
    "from sklearn.manifold import TSNE\n",
    "tsne = TSNE(n_components=3)\n",
    "tsne.get_params()"
   ]
  },
  {
   "cell_type": "markdown",
   "id": "1ecc459b-21d9-4bec-8740-b28d354d6a2a",
   "metadata": {},
   "source": [
    "#### Dimension Reduction using TSNE"
   ]
  },
  {
   "cell_type": "code",
   "execution_count": 35,
   "id": "2f341422-36a2-4d7a-bc59-7a1eef230d74",
   "metadata": {},
   "outputs": [
    {
     "data": {
      "text/plain": [
       "((2350, 3), (588, 3))"
      ]
     },
     "execution_count": 35,
     "metadata": {},
     "output_type": "execute_result"
    }
   ],
   "source": [
    "X_train_reduced = tsne.fit_transform(X_train_scaled)\n",
    "X_test_reduced = tsne.fit_transform(X_test_scaled)\n",
    "X_train_reduced.shape,X_test_reduced.shape"
   ]
  },
  {
   "cell_type": "markdown",
   "id": "25ec05ba-7375-416a-9e86-b9f6d86d81c1",
   "metadata": {},
   "source": [
    "#### Model trained with dimension reduced data"
   ]
  },
  {
   "cell_type": "code",
   "execution_count": 36,
   "id": "c2bcb09e-fa99-4253-8482-9f2b30b3b0ba",
   "metadata": {},
   "outputs": [
    {
     "data": {
      "text/html": [
       "<style>#sk-container-id-7 {color: black;background-color: white;}#sk-container-id-7 pre{padding: 0;}#sk-container-id-7 div.sk-toggleable {background-color: white;}#sk-container-id-7 label.sk-toggleable__label {cursor: pointer;display: block;width: 100%;margin-bottom: 0;padding: 0.3em;box-sizing: border-box;text-align: center;}#sk-container-id-7 label.sk-toggleable__label-arrow:before {content: \"▸\";float: left;margin-right: 0.25em;color: #696969;}#sk-container-id-7 label.sk-toggleable__label-arrow:hover:before {color: black;}#sk-container-id-7 div.sk-estimator:hover label.sk-toggleable__label-arrow:before {color: black;}#sk-container-id-7 div.sk-toggleable__content {max-height: 0;max-width: 0;overflow: hidden;text-align: left;background-color: #f0f8ff;}#sk-container-id-7 div.sk-toggleable__content pre {margin: 0.2em;color: black;border-radius: 0.25em;background-color: #f0f8ff;}#sk-container-id-7 input.sk-toggleable__control:checked~div.sk-toggleable__content {max-height: 200px;max-width: 100%;overflow: auto;}#sk-container-id-7 input.sk-toggleable__control:checked~label.sk-toggleable__label-arrow:before {content: \"▾\";}#sk-container-id-7 div.sk-estimator input.sk-toggleable__control:checked~label.sk-toggleable__label {background-color: #d4ebff;}#sk-container-id-7 div.sk-label input.sk-toggleable__control:checked~label.sk-toggleable__label {background-color: #d4ebff;}#sk-container-id-7 input.sk-hidden--visually {border: 0;clip: rect(1px 1px 1px 1px);clip: rect(1px, 1px, 1px, 1px);height: 1px;margin: -1px;overflow: hidden;padding: 0;position: absolute;width: 1px;}#sk-container-id-7 div.sk-estimator {font-family: monospace;background-color: #f0f8ff;border: 1px dotted black;border-radius: 0.25em;box-sizing: border-box;margin-bottom: 0.5em;}#sk-container-id-7 div.sk-estimator:hover {background-color: #d4ebff;}#sk-container-id-7 div.sk-parallel-item::after {content: \"\";width: 100%;border-bottom: 1px solid gray;flex-grow: 1;}#sk-container-id-7 div.sk-label:hover label.sk-toggleable__label {background-color: #d4ebff;}#sk-container-id-7 div.sk-serial::before {content: \"\";position: absolute;border-left: 1px solid gray;box-sizing: border-box;top: 0;bottom: 0;left: 50%;z-index: 0;}#sk-container-id-7 div.sk-serial {display: flex;flex-direction: column;align-items: center;background-color: white;padding-right: 0.2em;padding-left: 0.2em;position: relative;}#sk-container-id-7 div.sk-item {position: relative;z-index: 1;}#sk-container-id-7 div.sk-parallel {display: flex;align-items: stretch;justify-content: center;background-color: white;position: relative;}#sk-container-id-7 div.sk-item::before, #sk-container-id-7 div.sk-parallel-item::before {content: \"\";position: absolute;border-left: 1px solid gray;box-sizing: border-box;top: 0;bottom: 0;left: 50%;z-index: -1;}#sk-container-id-7 div.sk-parallel-item {display: flex;flex-direction: column;z-index: 1;position: relative;background-color: white;}#sk-container-id-7 div.sk-parallel-item:first-child::after {align-self: flex-end;width: 50%;}#sk-container-id-7 div.sk-parallel-item:last-child::after {align-self: flex-start;width: 50%;}#sk-container-id-7 div.sk-parallel-item:only-child::after {width: 0;}#sk-container-id-7 div.sk-dashed-wrapped {border: 1px dashed gray;margin: 0 0.4em 0.5em 0.4em;box-sizing: border-box;padding-bottom: 0.4em;background-color: white;}#sk-container-id-7 div.sk-label label {font-family: monospace;font-weight: bold;display: inline-block;line-height: 1.2em;}#sk-container-id-7 div.sk-label-container {text-align: center;}#sk-container-id-7 div.sk-container {/* jupyter's `normalize.less` sets `[hidden] { display: none; }` but bootstrap.min.css set `[hidden] { display: none !important; }` so we also need the `!important` here to be able to override the default hidden behavior on the sphinx rendered scikit-learn.org. See: https://github.com/scikit-learn/scikit-learn/issues/21755 */display: inline-block !important;position: relative;}#sk-container-id-7 div.sk-text-repr-fallback {display: none;}</style><div id=\"sk-container-id-7\" class=\"sk-top-container\"><div class=\"sk-text-repr-fallback\"><pre>SVR()</pre><b>In a Jupyter environment, please rerun this cell to show the HTML representation or trust the notebook. <br />On GitHub, the HTML representation is unable to render, please try loading this page with nbviewer.org.</b></div><div class=\"sk-container\" hidden><div class=\"sk-item\"><div class=\"sk-estimator sk-toggleable\"><input class=\"sk-toggleable__control sk-hidden--visually\" id=\"sk-estimator-id-7\" type=\"checkbox\" checked><label for=\"sk-estimator-id-7\" class=\"sk-toggleable__label sk-toggleable__label-arrow\">SVR</label><div class=\"sk-toggleable__content\"><pre>SVR()</pre></div></div></div></div></div>"
      ],
      "text/plain": [
       "SVR()"
      ]
     },
     "execution_count": 36,
     "metadata": {},
     "output_type": "execute_result"
    }
   ],
   "source": [
    "svr.fit(X_train_reduced, y_train)"
   ]
  },
  {
   "cell_type": "markdown",
   "id": "1ba1bbf3-d76f-47e7-9f00-fcee66b1131c",
   "metadata": {},
   "source": [
    "#### Model Evaluation"
   ]
  },
  {
   "cell_type": "code",
   "execution_count": 37,
   "id": "fc4f054f-95b8-4db3-bac4-3b22c9b27c26",
   "metadata": {},
   "outputs": [
    {
     "data": {
      "text/html": [
       "<div>\n",
       "<style scoped>\n",
       "    .dataframe tbody tr th:only-of-type {\n",
       "        vertical-align: middle;\n",
       "    }\n",
       "\n",
       "    .dataframe tbody tr th {\n",
       "        vertical-align: top;\n",
       "    }\n",
       "\n",
       "    .dataframe thead th {\n",
       "        text-align: right;\n",
       "    }\n",
       "</style>\n",
       "<table border=\"1\" class=\"dataframe\">\n",
       "  <thead>\n",
       "    <tr style=\"text-align: right;\">\n",
       "      <th></th>\n",
       "      <th>svm</th>\n",
       "      <th>pls</th>\n",
       "      <th>isomap</th>\n",
       "      <th>lle</th>\n",
       "      <th>spec_emb</th>\n",
       "      <th>mds</th>\n",
       "      <th>tsne</th>\n",
       "    </tr>\n",
       "  </thead>\n",
       "  <tbody>\n",
       "    <tr>\n",
       "      <th>R-squared Score</th>\n",
       "      <td>0.846243</td>\n",
       "      <td>0.802769</td>\n",
       "      <td>0.668215</td>\n",
       "      <td>0.155191</td>\n",
       "      <td>-0.107422</td>\n",
       "      <td>-1.493837</td>\n",
       "      <td>0.644331</td>\n",
       "    </tr>\n",
       "    <tr>\n",
       "      <th>MSE</th>\n",
       "      <td>13.544659</td>\n",
       "      <td>17.374400</td>\n",
       "      <td>29.227484</td>\n",
       "      <td>74.420566</td>\n",
       "      <td>97.554612</td>\n",
       "      <td>219.686111</td>\n",
       "      <td>31.331487</td>\n",
       "    </tr>\n",
       "  </tbody>\n",
       "</table>\n",
       "</div>"
      ],
      "text/plain": [
       "                       svm        pls     isomap        lle   spec_emb  \\\n",
       "R-squared Score   0.846243   0.802769   0.668215   0.155191  -0.107422   \n",
       "MSE              13.544659  17.374400  29.227484  74.420566  97.554612   \n",
       "\n",
       "                        mds       tsne  \n",
       "R-squared Score   -1.493837   0.644331  \n",
       "MSE              219.686111  31.331487  "
      ]
     },
     "execution_count": 37,
     "metadata": {},
     "output_type": "execute_result"
    }
   ],
   "source": [
    "y_pred = svr.predict(X_test_reduced)\n",
    "evaluations.loc['R-squared Score', 'tsne'] = svr.score(X_test_reduced, y_test)\n",
    "evaluations.loc['MSE', 'tsne'] = mean_squared_error(y_test, y_pred)\n",
    "evaluations"
   ]
  },
  {
   "cell_type": "markdown",
   "id": "2631cdf1-c2e4-4803-a84a-a6e4d4bb7e24",
   "metadata": {},
   "source": [
    "#### TSNE is an unsupervised method, it consumed more time and gave good results"
   ]
  },
  {
   "cell_type": "markdown",
   "id": "b2958595-9fa1-4c9f-88a3-948227984b35",
   "metadata": {},
   "source": [
    "#### 8. PCA"
   ]
  },
  {
   "cell_type": "code",
   "execution_count": 39,
   "id": "0aeb9373-8f5c-4d9e-9c9b-52df057a78e8",
   "metadata": {},
   "outputs": [
    {
     "data": {
      "text/plain": [
       "{'copy': True,\n",
       " 'iterated_power': 'auto',\n",
       " 'n_components': 3,\n",
       " 'n_oversamples': 10,\n",
       " 'power_iteration_normalizer': 'auto',\n",
       " 'random_state': None,\n",
       " 'svd_solver': 'auto',\n",
       " 'tol': 0.0,\n",
       " 'whiten': False}"
      ]
     },
     "execution_count": 39,
     "metadata": {},
     "output_type": "execute_result"
    }
   ],
   "source": [
    "from sklearn.decomposition import PCA\n",
    "pca = PCA(n_components=3)\n",
    "pca.get_params()"
   ]
  },
  {
   "cell_type": "markdown",
   "id": "a7980cb4-8667-4c5e-afdb-dd762f4432b2",
   "metadata": {},
   "source": [
    "#### Dimension Reduction using PCA"
   ]
  },
  {
   "cell_type": "code",
   "execution_count": 40,
   "id": "196cc395-e127-415a-b3e0-cbc793b7dad8",
   "metadata": {},
   "outputs": [
    {
     "data": {
      "text/plain": [
       "((2350, 3), (588, 3))"
      ]
     },
     "execution_count": 40,
     "metadata": {},
     "output_type": "execute_result"
    }
   ],
   "source": [
    "X_train_reduced = pca.fit_transform(X_train_scaled)\n",
    "X_test_reduced = pca.transform(X_test_scaled)\n",
    "X_train_reduced.shape,X_test_reduced.shape"
   ]
  },
  {
   "cell_type": "markdown",
   "id": "6616b6e4-a085-4986-8beb-ced0fce59573",
   "metadata": {},
   "source": [
    "#### Model trained with dimension reduced data"
   ]
  },
  {
   "cell_type": "code",
   "execution_count": 41,
   "id": "67255e8c-19e8-4d72-b682-e6ac34fbd696",
   "metadata": {},
   "outputs": [
    {
     "data": {
      "text/html": [
       "<style>#sk-container-id-8 {color: black;background-color: white;}#sk-container-id-8 pre{padding: 0;}#sk-container-id-8 div.sk-toggleable {background-color: white;}#sk-container-id-8 label.sk-toggleable__label {cursor: pointer;display: block;width: 100%;margin-bottom: 0;padding: 0.3em;box-sizing: border-box;text-align: center;}#sk-container-id-8 label.sk-toggleable__label-arrow:before {content: \"▸\";float: left;margin-right: 0.25em;color: #696969;}#sk-container-id-8 label.sk-toggleable__label-arrow:hover:before {color: black;}#sk-container-id-8 div.sk-estimator:hover label.sk-toggleable__label-arrow:before {color: black;}#sk-container-id-8 div.sk-toggleable__content {max-height: 0;max-width: 0;overflow: hidden;text-align: left;background-color: #f0f8ff;}#sk-container-id-8 div.sk-toggleable__content pre {margin: 0.2em;color: black;border-radius: 0.25em;background-color: #f0f8ff;}#sk-container-id-8 input.sk-toggleable__control:checked~div.sk-toggleable__content {max-height: 200px;max-width: 100%;overflow: auto;}#sk-container-id-8 input.sk-toggleable__control:checked~label.sk-toggleable__label-arrow:before {content: \"▾\";}#sk-container-id-8 div.sk-estimator input.sk-toggleable__control:checked~label.sk-toggleable__label {background-color: #d4ebff;}#sk-container-id-8 div.sk-label input.sk-toggleable__control:checked~label.sk-toggleable__label {background-color: #d4ebff;}#sk-container-id-8 input.sk-hidden--visually {border: 0;clip: rect(1px 1px 1px 1px);clip: rect(1px, 1px, 1px, 1px);height: 1px;margin: -1px;overflow: hidden;padding: 0;position: absolute;width: 1px;}#sk-container-id-8 div.sk-estimator {font-family: monospace;background-color: #f0f8ff;border: 1px dotted black;border-radius: 0.25em;box-sizing: border-box;margin-bottom: 0.5em;}#sk-container-id-8 div.sk-estimator:hover {background-color: #d4ebff;}#sk-container-id-8 div.sk-parallel-item::after {content: \"\";width: 100%;border-bottom: 1px solid gray;flex-grow: 1;}#sk-container-id-8 div.sk-label:hover label.sk-toggleable__label {background-color: #d4ebff;}#sk-container-id-8 div.sk-serial::before {content: \"\";position: absolute;border-left: 1px solid gray;box-sizing: border-box;top: 0;bottom: 0;left: 50%;z-index: 0;}#sk-container-id-8 div.sk-serial {display: flex;flex-direction: column;align-items: center;background-color: white;padding-right: 0.2em;padding-left: 0.2em;position: relative;}#sk-container-id-8 div.sk-item {position: relative;z-index: 1;}#sk-container-id-8 div.sk-parallel {display: flex;align-items: stretch;justify-content: center;background-color: white;position: relative;}#sk-container-id-8 div.sk-item::before, #sk-container-id-8 div.sk-parallel-item::before {content: \"\";position: absolute;border-left: 1px solid gray;box-sizing: border-box;top: 0;bottom: 0;left: 50%;z-index: -1;}#sk-container-id-8 div.sk-parallel-item {display: flex;flex-direction: column;z-index: 1;position: relative;background-color: white;}#sk-container-id-8 div.sk-parallel-item:first-child::after {align-self: flex-end;width: 50%;}#sk-container-id-8 div.sk-parallel-item:last-child::after {align-self: flex-start;width: 50%;}#sk-container-id-8 div.sk-parallel-item:only-child::after {width: 0;}#sk-container-id-8 div.sk-dashed-wrapped {border: 1px dashed gray;margin: 0 0.4em 0.5em 0.4em;box-sizing: border-box;padding-bottom: 0.4em;background-color: white;}#sk-container-id-8 div.sk-label label {font-family: monospace;font-weight: bold;display: inline-block;line-height: 1.2em;}#sk-container-id-8 div.sk-label-container {text-align: center;}#sk-container-id-8 div.sk-container {/* jupyter's `normalize.less` sets `[hidden] { display: none; }` but bootstrap.min.css set `[hidden] { display: none !important; }` so we also need the `!important` here to be able to override the default hidden behavior on the sphinx rendered scikit-learn.org. See: https://github.com/scikit-learn/scikit-learn/issues/21755 */display: inline-block !important;position: relative;}#sk-container-id-8 div.sk-text-repr-fallback {display: none;}</style><div id=\"sk-container-id-8\" class=\"sk-top-container\"><div class=\"sk-text-repr-fallback\"><pre>SVR()</pre><b>In a Jupyter environment, please rerun this cell to show the HTML representation or trust the notebook. <br />On GitHub, the HTML representation is unable to render, please try loading this page with nbviewer.org.</b></div><div class=\"sk-container\" hidden><div class=\"sk-item\"><div class=\"sk-estimator sk-toggleable\"><input class=\"sk-toggleable__control sk-hidden--visually\" id=\"sk-estimator-id-8\" type=\"checkbox\" checked><label for=\"sk-estimator-id-8\" class=\"sk-toggleable__label sk-toggleable__label-arrow\">SVR</label><div class=\"sk-toggleable__content\"><pre>SVR()</pre></div></div></div></div></div>"
      ],
      "text/plain": [
       "SVR()"
      ]
     },
     "execution_count": 41,
     "metadata": {},
     "output_type": "execute_result"
    }
   ],
   "source": [
    "svr.fit(X_train_reduced, y_train)"
   ]
  },
  {
   "cell_type": "markdown",
   "id": "68fca87d-cf72-4607-9432-6d39c048b0db",
   "metadata": {},
   "source": [
    "#### Model Evaluation"
   ]
  },
  {
   "cell_type": "code",
   "execution_count": 42,
   "id": "599bd22c-b869-4592-ac65-9affd2b87a32",
   "metadata": {},
   "outputs": [
    {
     "data": {
      "text/html": [
       "<div>\n",
       "<style scoped>\n",
       "    .dataframe tbody tr th:only-of-type {\n",
       "        vertical-align: middle;\n",
       "    }\n",
       "\n",
       "    .dataframe tbody tr th {\n",
       "        vertical-align: top;\n",
       "    }\n",
       "\n",
       "    .dataframe thead th {\n",
       "        text-align: right;\n",
       "    }\n",
       "</style>\n",
       "<table border=\"1\" class=\"dataframe\">\n",
       "  <thead>\n",
       "    <tr style=\"text-align: right;\">\n",
       "      <th></th>\n",
       "      <th>svm</th>\n",
       "      <th>pls</th>\n",
       "      <th>isomap</th>\n",
       "      <th>lle</th>\n",
       "      <th>spec_emb</th>\n",
       "      <th>mds</th>\n",
       "      <th>tsne</th>\n",
       "      <th>pca</th>\n",
       "    </tr>\n",
       "  </thead>\n",
       "  <tbody>\n",
       "    <tr>\n",
       "      <th>R-squared Score</th>\n",
       "      <td>0.846243</td>\n",
       "      <td>0.802769</td>\n",
       "      <td>0.668215</td>\n",
       "      <td>0.155191</td>\n",
       "      <td>-0.107422</td>\n",
       "      <td>-1.493837</td>\n",
       "      <td>0.644331</td>\n",
       "      <td>0.744923</td>\n",
       "    </tr>\n",
       "    <tr>\n",
       "      <th>MSE</th>\n",
       "      <td>13.544659</td>\n",
       "      <td>17.374400</td>\n",
       "      <td>29.227484</td>\n",
       "      <td>74.420566</td>\n",
       "      <td>97.554612</td>\n",
       "      <td>219.686111</td>\n",
       "      <td>31.331487</td>\n",
       "      <td>22.470131</td>\n",
       "    </tr>\n",
       "  </tbody>\n",
       "</table>\n",
       "</div>"
      ],
      "text/plain": [
       "                       svm        pls     isomap        lle   spec_emb  \\\n",
       "R-squared Score   0.846243   0.802769   0.668215   0.155191  -0.107422   \n",
       "MSE              13.544659  17.374400  29.227484  74.420566  97.554612   \n",
       "\n",
       "                        mds       tsne        pca  \n",
       "R-squared Score   -1.493837   0.644331   0.744923  \n",
       "MSE              219.686111  31.331487  22.470131  "
      ]
     },
     "execution_count": 42,
     "metadata": {},
     "output_type": "execute_result"
    }
   ],
   "source": [
    "y_pred = svr.predict(X_test_reduced)\n",
    "evaluations.loc['R-squared Score', 'pca'] = svr.score(X_test_reduced, y_test)\n",
    "evaluations.loc['MSE', 'pca'] = mean_squared_error(y_test, y_pred)\n",
    "evaluations"
   ]
  },
  {
   "cell_type": "markdown",
   "id": "4b1f3fbc-f2bb-43cf-a05d-7da1c41f0efc",
   "metadata": {},
   "source": [
    "#### PCA is an unsupervised method, It is very fast, and Gave better results"
   ]
  },
  {
   "cell_type": "markdown",
   "id": "943a0c24-88ad-4994-8f50-799d5d509e41",
   "metadata": {},
   "source": [
    "#### 9. IncrementalPCA "
   ]
  },
  {
   "cell_type": "code",
   "execution_count": 43,
   "id": "4e4d8548-d042-4c15-b06f-9bad5323af00",
   "metadata": {},
   "outputs": [
    {
     "data": {
      "text/plain": [
       "{'batch_size': None, 'copy': True, 'n_components': 3, 'whiten': False}"
      ]
     },
     "execution_count": 43,
     "metadata": {},
     "output_type": "execute_result"
    }
   ],
   "source": [
    "from sklearn.decomposition import IncrementalPCA\n",
    "ipca = IncrementalPCA(n_components=3)\n",
    "ipca.get_params()"
   ]
  },
  {
   "cell_type": "markdown",
   "id": "8f403dee-f06a-4a2c-9019-bf427e4733ce",
   "metadata": {},
   "source": [
    "#### Dimension Reduction using Incremental PCA"
   ]
  },
  {
   "cell_type": "code",
   "execution_count": 44,
   "id": "9c2dcaeb-8d73-4e10-af00-cfe8c155417e",
   "metadata": {},
   "outputs": [
    {
     "data": {
      "text/plain": [
       "((2350, 3), (588, 3))"
      ]
     },
     "execution_count": 44,
     "metadata": {},
     "output_type": "execute_result"
    }
   ],
   "source": [
    "X_train_reduced = ipca.fit_transform(X_train_scaled)\n",
    "X_test_reduced = ipca.transform(X_test_scaled)\n",
    "X_train_reduced.shape,X_test_reduced.shape"
   ]
  },
  {
   "cell_type": "markdown",
   "id": "9ea9fd4c-1b34-4e29-bf81-1536cb87b6f4",
   "metadata": {},
   "source": [
    "#### Model trained with dimension reduced data"
   ]
  },
  {
   "cell_type": "code",
   "execution_count": 45,
   "id": "da3acd5c-6cb9-4304-b582-dcf1a0bf89c3",
   "metadata": {},
   "outputs": [
    {
     "data": {
      "text/html": [
       "<style>#sk-container-id-9 {color: black;background-color: white;}#sk-container-id-9 pre{padding: 0;}#sk-container-id-9 div.sk-toggleable {background-color: white;}#sk-container-id-9 label.sk-toggleable__label {cursor: pointer;display: block;width: 100%;margin-bottom: 0;padding: 0.3em;box-sizing: border-box;text-align: center;}#sk-container-id-9 label.sk-toggleable__label-arrow:before {content: \"▸\";float: left;margin-right: 0.25em;color: #696969;}#sk-container-id-9 label.sk-toggleable__label-arrow:hover:before {color: black;}#sk-container-id-9 div.sk-estimator:hover label.sk-toggleable__label-arrow:before {color: black;}#sk-container-id-9 div.sk-toggleable__content {max-height: 0;max-width: 0;overflow: hidden;text-align: left;background-color: #f0f8ff;}#sk-container-id-9 div.sk-toggleable__content pre {margin: 0.2em;color: black;border-radius: 0.25em;background-color: #f0f8ff;}#sk-container-id-9 input.sk-toggleable__control:checked~div.sk-toggleable__content {max-height: 200px;max-width: 100%;overflow: auto;}#sk-container-id-9 input.sk-toggleable__control:checked~label.sk-toggleable__label-arrow:before {content: \"▾\";}#sk-container-id-9 div.sk-estimator input.sk-toggleable__control:checked~label.sk-toggleable__label {background-color: #d4ebff;}#sk-container-id-9 div.sk-label input.sk-toggleable__control:checked~label.sk-toggleable__label {background-color: #d4ebff;}#sk-container-id-9 input.sk-hidden--visually {border: 0;clip: rect(1px 1px 1px 1px);clip: rect(1px, 1px, 1px, 1px);height: 1px;margin: -1px;overflow: hidden;padding: 0;position: absolute;width: 1px;}#sk-container-id-9 div.sk-estimator {font-family: monospace;background-color: #f0f8ff;border: 1px dotted black;border-radius: 0.25em;box-sizing: border-box;margin-bottom: 0.5em;}#sk-container-id-9 div.sk-estimator:hover {background-color: #d4ebff;}#sk-container-id-9 div.sk-parallel-item::after {content: \"\";width: 100%;border-bottom: 1px solid gray;flex-grow: 1;}#sk-container-id-9 div.sk-label:hover label.sk-toggleable__label {background-color: #d4ebff;}#sk-container-id-9 div.sk-serial::before {content: \"\";position: absolute;border-left: 1px solid gray;box-sizing: border-box;top: 0;bottom: 0;left: 50%;z-index: 0;}#sk-container-id-9 div.sk-serial {display: flex;flex-direction: column;align-items: center;background-color: white;padding-right: 0.2em;padding-left: 0.2em;position: relative;}#sk-container-id-9 div.sk-item {position: relative;z-index: 1;}#sk-container-id-9 div.sk-parallel {display: flex;align-items: stretch;justify-content: center;background-color: white;position: relative;}#sk-container-id-9 div.sk-item::before, #sk-container-id-9 div.sk-parallel-item::before {content: \"\";position: absolute;border-left: 1px solid gray;box-sizing: border-box;top: 0;bottom: 0;left: 50%;z-index: -1;}#sk-container-id-9 div.sk-parallel-item {display: flex;flex-direction: column;z-index: 1;position: relative;background-color: white;}#sk-container-id-9 div.sk-parallel-item:first-child::after {align-self: flex-end;width: 50%;}#sk-container-id-9 div.sk-parallel-item:last-child::after {align-self: flex-start;width: 50%;}#sk-container-id-9 div.sk-parallel-item:only-child::after {width: 0;}#sk-container-id-9 div.sk-dashed-wrapped {border: 1px dashed gray;margin: 0 0.4em 0.5em 0.4em;box-sizing: border-box;padding-bottom: 0.4em;background-color: white;}#sk-container-id-9 div.sk-label label {font-family: monospace;font-weight: bold;display: inline-block;line-height: 1.2em;}#sk-container-id-9 div.sk-label-container {text-align: center;}#sk-container-id-9 div.sk-container {/* jupyter's `normalize.less` sets `[hidden] { display: none; }` but bootstrap.min.css set `[hidden] { display: none !important; }` so we also need the `!important` here to be able to override the default hidden behavior on the sphinx rendered scikit-learn.org. See: https://github.com/scikit-learn/scikit-learn/issues/21755 */display: inline-block !important;position: relative;}#sk-container-id-9 div.sk-text-repr-fallback {display: none;}</style><div id=\"sk-container-id-9\" class=\"sk-top-container\"><div class=\"sk-text-repr-fallback\"><pre>SVR()</pre><b>In a Jupyter environment, please rerun this cell to show the HTML representation or trust the notebook. <br />On GitHub, the HTML representation is unable to render, please try loading this page with nbviewer.org.</b></div><div class=\"sk-container\" hidden><div class=\"sk-item\"><div class=\"sk-estimator sk-toggleable\"><input class=\"sk-toggleable__control sk-hidden--visually\" id=\"sk-estimator-id-9\" type=\"checkbox\" checked><label for=\"sk-estimator-id-9\" class=\"sk-toggleable__label sk-toggleable__label-arrow\">SVR</label><div class=\"sk-toggleable__content\"><pre>SVR()</pre></div></div></div></div></div>"
      ],
      "text/plain": [
       "SVR()"
      ]
     },
     "execution_count": 45,
     "metadata": {},
     "output_type": "execute_result"
    }
   ],
   "source": [
    "svr.fit(X_train_reduced, y_train)"
   ]
  },
  {
   "cell_type": "markdown",
   "id": "2a3c5e80-b932-4db4-8896-b2a2ac557c95",
   "metadata": {},
   "source": [
    "#### Model Evaluation"
   ]
  },
  {
   "cell_type": "code",
   "execution_count": 46,
   "id": "897d9a23-6837-41f2-a7ef-be875a55cb44",
   "metadata": {},
   "outputs": [
    {
     "data": {
      "text/html": [
       "<div>\n",
       "<style scoped>\n",
       "    .dataframe tbody tr th:only-of-type {\n",
       "        vertical-align: middle;\n",
       "    }\n",
       "\n",
       "    .dataframe tbody tr th {\n",
       "        vertical-align: top;\n",
       "    }\n",
       "\n",
       "    .dataframe thead th {\n",
       "        text-align: right;\n",
       "    }\n",
       "</style>\n",
       "<table border=\"1\" class=\"dataframe\">\n",
       "  <thead>\n",
       "    <tr style=\"text-align: right;\">\n",
       "      <th></th>\n",
       "      <th>svm</th>\n",
       "      <th>pls</th>\n",
       "      <th>isomap</th>\n",
       "      <th>lle</th>\n",
       "      <th>spec_emb</th>\n",
       "      <th>mds</th>\n",
       "      <th>tsne</th>\n",
       "      <th>pca</th>\n",
       "      <th>inc-pca</th>\n",
       "    </tr>\n",
       "  </thead>\n",
       "  <tbody>\n",
       "    <tr>\n",
       "      <th>R-squared Score</th>\n",
       "      <td>0.846243</td>\n",
       "      <td>0.802769</td>\n",
       "      <td>0.668215</td>\n",
       "      <td>0.155191</td>\n",
       "      <td>-0.107422</td>\n",
       "      <td>-1.493837</td>\n",
       "      <td>0.644331</td>\n",
       "      <td>0.744923</td>\n",
       "      <td>0.733979</td>\n",
       "    </tr>\n",
       "    <tr>\n",
       "      <th>MSE</th>\n",
       "      <td>13.544659</td>\n",
       "      <td>17.374400</td>\n",
       "      <td>29.227484</td>\n",
       "      <td>74.420566</td>\n",
       "      <td>97.554612</td>\n",
       "      <td>219.686111</td>\n",
       "      <td>31.331487</td>\n",
       "      <td>22.470131</td>\n",
       "      <td>23.434193</td>\n",
       "    </tr>\n",
       "  </tbody>\n",
       "</table>\n",
       "</div>"
      ],
      "text/plain": [
       "                       svm        pls     isomap        lle   spec_emb  \\\n",
       "R-squared Score   0.846243   0.802769   0.668215   0.155191  -0.107422   \n",
       "MSE              13.544659  17.374400  29.227484  74.420566  97.554612   \n",
       "\n",
       "                        mds       tsne        pca    inc-pca  \n",
       "R-squared Score   -1.493837   0.644331   0.744923   0.733979  \n",
       "MSE              219.686111  31.331487  22.470131  23.434193  "
      ]
     },
     "execution_count": 46,
     "metadata": {},
     "output_type": "execute_result"
    }
   ],
   "source": [
    "y_pred = svr.predict(X_test_reduced)\n",
    "evaluations.loc['R-squared Score', 'inc-pca'] = svr.score(X_test_reduced, y_test)\n",
    "evaluations.loc['MSE', 'inc-pca'] = mean_squared_error(y_test, y_pred)\n",
    "evaluations"
   ]
  },
  {
   "cell_type": "markdown",
   "id": "de0c8c03-d369-4743-987f-4bb57ac25d93",
   "metadata": {},
   "source": [
    "#### Incremental PCA is similar to PCA with more memory efficient than PCA, and it allows sparse Input"
   ]
  },
  {
   "cell_type": "markdown",
   "id": "9f9fd285-fdfa-495d-9934-02f88ff0d680",
   "metadata": {},
   "source": [
    "#### 10. SparsePCA"
   ]
  },
  {
   "cell_type": "code",
   "execution_count": 47,
   "id": "31a64528-b8ac-4e1f-878f-6796a2a4d45c",
   "metadata": {},
   "outputs": [
    {
     "data": {
      "text/plain": [
       "{'U_init': None,\n",
       " 'V_init': None,\n",
       " 'alpha': 1,\n",
       " 'max_iter': 1000,\n",
       " 'method': 'lars',\n",
       " 'n_components': 3,\n",
       " 'n_jobs': None,\n",
       " 'random_state': None,\n",
       " 'ridge_alpha': 0.01,\n",
       " 'tol': 1e-08,\n",
       " 'verbose': False}"
      ]
     },
     "execution_count": 47,
     "metadata": {},
     "output_type": "execute_result"
    }
   ],
   "source": [
    "from sklearn.decomposition import SparsePCA\n",
    "spca = SparsePCA(n_components=3)\n",
    "spca.get_params()"
   ]
  },
  {
   "cell_type": "markdown",
   "id": "f93bd02b-5d45-494e-8ecf-4106e52ac6bd",
   "metadata": {},
   "source": [
    "#### Dimension reduction using Sparse PCA"
   ]
  },
  {
   "cell_type": "code",
   "execution_count": 48,
   "id": "1ae051f4-a77e-4e0d-a209-34b0567a7062",
   "metadata": {},
   "outputs": [
    {
     "data": {
      "text/plain": [
       "((2350, 3), (588, 3))"
      ]
     },
     "execution_count": 48,
     "metadata": {},
     "output_type": "execute_result"
    }
   ],
   "source": [
    "X_train_reduced = spca.fit_transform(X_train_scaled)\n",
    "X_test_reduced = spca.transform(X_test_scaled)\n",
    "X_train_reduced.shape,X_test_reduced.shape"
   ]
  },
  {
   "cell_type": "markdown",
   "id": "912d7135-b6e9-426a-85d6-988b70264db4",
   "metadata": {},
   "source": [
    "#### Model trained with dimension reduced data"
   ]
  },
  {
   "cell_type": "code",
   "execution_count": 49,
   "id": "42602b88-711c-49fb-86ac-06d4f98fb3f8",
   "metadata": {},
   "outputs": [
    {
     "data": {
      "text/html": [
       "<style>#sk-container-id-10 {color: black;background-color: white;}#sk-container-id-10 pre{padding: 0;}#sk-container-id-10 div.sk-toggleable {background-color: white;}#sk-container-id-10 label.sk-toggleable__label {cursor: pointer;display: block;width: 100%;margin-bottom: 0;padding: 0.3em;box-sizing: border-box;text-align: center;}#sk-container-id-10 label.sk-toggleable__label-arrow:before {content: \"▸\";float: left;margin-right: 0.25em;color: #696969;}#sk-container-id-10 label.sk-toggleable__label-arrow:hover:before {color: black;}#sk-container-id-10 div.sk-estimator:hover label.sk-toggleable__label-arrow:before {color: black;}#sk-container-id-10 div.sk-toggleable__content {max-height: 0;max-width: 0;overflow: hidden;text-align: left;background-color: #f0f8ff;}#sk-container-id-10 div.sk-toggleable__content pre {margin: 0.2em;color: black;border-radius: 0.25em;background-color: #f0f8ff;}#sk-container-id-10 input.sk-toggleable__control:checked~div.sk-toggleable__content {max-height: 200px;max-width: 100%;overflow: auto;}#sk-container-id-10 input.sk-toggleable__control:checked~label.sk-toggleable__label-arrow:before {content: \"▾\";}#sk-container-id-10 div.sk-estimator input.sk-toggleable__control:checked~label.sk-toggleable__label {background-color: #d4ebff;}#sk-container-id-10 div.sk-label input.sk-toggleable__control:checked~label.sk-toggleable__label {background-color: #d4ebff;}#sk-container-id-10 input.sk-hidden--visually {border: 0;clip: rect(1px 1px 1px 1px);clip: rect(1px, 1px, 1px, 1px);height: 1px;margin: -1px;overflow: hidden;padding: 0;position: absolute;width: 1px;}#sk-container-id-10 div.sk-estimator {font-family: monospace;background-color: #f0f8ff;border: 1px dotted black;border-radius: 0.25em;box-sizing: border-box;margin-bottom: 0.5em;}#sk-container-id-10 div.sk-estimator:hover {background-color: #d4ebff;}#sk-container-id-10 div.sk-parallel-item::after {content: \"\";width: 100%;border-bottom: 1px solid gray;flex-grow: 1;}#sk-container-id-10 div.sk-label:hover label.sk-toggleable__label {background-color: #d4ebff;}#sk-container-id-10 div.sk-serial::before {content: \"\";position: absolute;border-left: 1px solid gray;box-sizing: border-box;top: 0;bottom: 0;left: 50%;z-index: 0;}#sk-container-id-10 div.sk-serial {display: flex;flex-direction: column;align-items: center;background-color: white;padding-right: 0.2em;padding-left: 0.2em;position: relative;}#sk-container-id-10 div.sk-item {position: relative;z-index: 1;}#sk-container-id-10 div.sk-parallel {display: flex;align-items: stretch;justify-content: center;background-color: white;position: relative;}#sk-container-id-10 div.sk-item::before, #sk-container-id-10 div.sk-parallel-item::before {content: \"\";position: absolute;border-left: 1px solid gray;box-sizing: border-box;top: 0;bottom: 0;left: 50%;z-index: -1;}#sk-container-id-10 div.sk-parallel-item {display: flex;flex-direction: column;z-index: 1;position: relative;background-color: white;}#sk-container-id-10 div.sk-parallel-item:first-child::after {align-self: flex-end;width: 50%;}#sk-container-id-10 div.sk-parallel-item:last-child::after {align-self: flex-start;width: 50%;}#sk-container-id-10 div.sk-parallel-item:only-child::after {width: 0;}#sk-container-id-10 div.sk-dashed-wrapped {border: 1px dashed gray;margin: 0 0.4em 0.5em 0.4em;box-sizing: border-box;padding-bottom: 0.4em;background-color: white;}#sk-container-id-10 div.sk-label label {font-family: monospace;font-weight: bold;display: inline-block;line-height: 1.2em;}#sk-container-id-10 div.sk-label-container {text-align: center;}#sk-container-id-10 div.sk-container {/* jupyter's `normalize.less` sets `[hidden] { display: none; }` but bootstrap.min.css set `[hidden] { display: none !important; }` so we also need the `!important` here to be able to override the default hidden behavior on the sphinx rendered scikit-learn.org. See: https://github.com/scikit-learn/scikit-learn/issues/21755 */display: inline-block !important;position: relative;}#sk-container-id-10 div.sk-text-repr-fallback {display: none;}</style><div id=\"sk-container-id-10\" class=\"sk-top-container\"><div class=\"sk-text-repr-fallback\"><pre>SVR()</pre><b>In a Jupyter environment, please rerun this cell to show the HTML representation or trust the notebook. <br />On GitHub, the HTML representation is unable to render, please try loading this page with nbviewer.org.</b></div><div class=\"sk-container\" hidden><div class=\"sk-item\"><div class=\"sk-estimator sk-toggleable\"><input class=\"sk-toggleable__control sk-hidden--visually\" id=\"sk-estimator-id-10\" type=\"checkbox\" checked><label for=\"sk-estimator-id-10\" class=\"sk-toggleable__label sk-toggleable__label-arrow\">SVR</label><div class=\"sk-toggleable__content\"><pre>SVR()</pre></div></div></div></div></div>"
      ],
      "text/plain": [
       "SVR()"
      ]
     },
     "execution_count": 49,
     "metadata": {},
     "output_type": "execute_result"
    }
   ],
   "source": [
    "svr.fit(X_train_reduced, y_train)"
   ]
  },
  {
   "cell_type": "markdown",
   "id": "0f80091f-8d67-41c9-935e-706cdf7b05fb",
   "metadata": {},
   "source": [
    "#### Model Evaluation"
   ]
  },
  {
   "cell_type": "code",
   "execution_count": 50,
   "id": "45a8e730-f3df-44e5-92f5-fd17658b2247",
   "metadata": {},
   "outputs": [
    {
     "data": {
      "text/html": [
       "<div>\n",
       "<style scoped>\n",
       "    .dataframe tbody tr th:only-of-type {\n",
       "        vertical-align: middle;\n",
       "    }\n",
       "\n",
       "    .dataframe tbody tr th {\n",
       "        vertical-align: top;\n",
       "    }\n",
       "\n",
       "    .dataframe thead th {\n",
       "        text-align: right;\n",
       "    }\n",
       "</style>\n",
       "<table border=\"1\" class=\"dataframe\">\n",
       "  <thead>\n",
       "    <tr style=\"text-align: right;\">\n",
       "      <th></th>\n",
       "      <th>svm</th>\n",
       "      <th>pls</th>\n",
       "      <th>isomap</th>\n",
       "      <th>lle</th>\n",
       "      <th>spec_emb</th>\n",
       "      <th>mds</th>\n",
       "      <th>tsne</th>\n",
       "      <th>pca</th>\n",
       "      <th>inc-pca</th>\n",
       "      <th>sparse-pca</th>\n",
       "    </tr>\n",
       "  </thead>\n",
       "  <tbody>\n",
       "    <tr>\n",
       "      <th>R-squared Score</th>\n",
       "      <td>0.846243</td>\n",
       "      <td>0.802769</td>\n",
       "      <td>0.668215</td>\n",
       "      <td>0.155191</td>\n",
       "      <td>-0.107422</td>\n",
       "      <td>-1.493837</td>\n",
       "      <td>0.644331</td>\n",
       "      <td>0.744923</td>\n",
       "      <td>0.733979</td>\n",
       "      <td>0.743115</td>\n",
       "    </tr>\n",
       "    <tr>\n",
       "      <th>MSE</th>\n",
       "      <td>13.544659</td>\n",
       "      <td>17.374400</td>\n",
       "      <td>29.227484</td>\n",
       "      <td>74.420566</td>\n",
       "      <td>97.554612</td>\n",
       "      <td>219.686111</td>\n",
       "      <td>31.331487</td>\n",
       "      <td>22.470131</td>\n",
       "      <td>23.434193</td>\n",
       "      <td>22.629376</td>\n",
       "    </tr>\n",
       "  </tbody>\n",
       "</table>\n",
       "</div>"
      ],
      "text/plain": [
       "                       svm        pls     isomap        lle   spec_emb  \\\n",
       "R-squared Score   0.846243   0.802769   0.668215   0.155191  -0.107422   \n",
       "MSE              13.544659  17.374400  29.227484  74.420566  97.554612   \n",
       "\n",
       "                        mds       tsne        pca    inc-pca  sparse-pca  \n",
       "R-squared Score   -1.493837   0.644331   0.744923   0.733979    0.743115  \n",
       "MSE              219.686111  31.331487  22.470131  23.434193   22.629376  "
      ]
     },
     "execution_count": 50,
     "metadata": {},
     "output_type": "execute_result"
    }
   ],
   "source": [
    "y_pred = svr.predict(X_test_reduced)\n",
    "evaluations.loc['R-squared Score', 'sparse-pca'] = svr.score(X_test_reduced, y_test)\n",
    "evaluations.loc['MSE', 'sparse-pca'] = mean_squared_error(y_test, y_pred)\n",
    "evaluations"
   ]
  },
  {
   "cell_type": "markdown",
   "id": "375ae72c-06bc-4077-acd4-628df1002838",
   "metadata": {},
   "source": [
    "#### Sparse PCA finds the set of sparse components that can optionally reconstruct the data, and it Gave good results"
   ]
  },
  {
   "cell_type": "markdown",
   "id": "a8506674-e76f-4a68-b0b1-62cdebef5ce9",
   "metadata": {},
   "source": [
    "#### 11. KernelPCA"
   ]
  },
  {
   "cell_type": "code",
   "execution_count": 51,
   "id": "eb309afb-651b-4293-999c-97bbc1f1ecdd",
   "metadata": {},
   "outputs": [
    {
     "data": {
      "text/plain": [
       "{'alpha': 1.0,\n",
       " 'coef0': 1,\n",
       " 'copy_X': True,\n",
       " 'degree': 3,\n",
       " 'eigen_solver': 'auto',\n",
       " 'fit_inverse_transform': False,\n",
       " 'gamma': None,\n",
       " 'iterated_power': 'auto',\n",
       " 'kernel': 'linear',\n",
       " 'kernel_params': None,\n",
       " 'max_iter': None,\n",
       " 'n_components': 3,\n",
       " 'n_jobs': None,\n",
       " 'random_state': None,\n",
       " 'remove_zero_eig': False,\n",
       " 'tol': 0}"
      ]
     },
     "execution_count": 51,
     "metadata": {},
     "output_type": "execute_result"
    }
   ],
   "source": [
    "from sklearn.decomposition import KernelPCA\n",
    "kpca = KernelPCA(n_components=3)\n",
    "kpca.get_params()"
   ]
  },
  {
   "cell_type": "markdown",
   "id": "fb6ef884-2e7f-46d7-aed2-ee635202595b",
   "metadata": {},
   "source": [
    "#### Dimension reduction using Kernel PCA"
   ]
  },
  {
   "cell_type": "code",
   "execution_count": 52,
   "id": "bc2eebd3-f9ca-4128-bf37-da2a773cf305",
   "metadata": {},
   "outputs": [
    {
     "data": {
      "text/plain": [
       "((2350, 3), (588, 3))"
      ]
     },
     "execution_count": 52,
     "metadata": {},
     "output_type": "execute_result"
    }
   ],
   "source": [
    "X_train_reduced = kpca.fit_transform(X_train_scaled)\n",
    "X_test_reduced = kpca.transform(X_test_scaled)\n",
    "X_train_reduced.shape,X_test_reduced.shape"
   ]
  },
  {
   "cell_type": "markdown",
   "id": "4bb0b9f6-2775-4b08-87a7-8728d759c3c8",
   "metadata": {},
   "source": [
    "#### Model trained on dimension reduced data"
   ]
  },
  {
   "cell_type": "code",
   "execution_count": 53,
   "id": "0d55aae3-0564-469b-97b7-8a9ad318d36f",
   "metadata": {},
   "outputs": [
    {
     "data": {
      "text/html": [
       "<style>#sk-container-id-11 {color: black;background-color: white;}#sk-container-id-11 pre{padding: 0;}#sk-container-id-11 div.sk-toggleable {background-color: white;}#sk-container-id-11 label.sk-toggleable__label {cursor: pointer;display: block;width: 100%;margin-bottom: 0;padding: 0.3em;box-sizing: border-box;text-align: center;}#sk-container-id-11 label.sk-toggleable__label-arrow:before {content: \"▸\";float: left;margin-right: 0.25em;color: #696969;}#sk-container-id-11 label.sk-toggleable__label-arrow:hover:before {color: black;}#sk-container-id-11 div.sk-estimator:hover label.sk-toggleable__label-arrow:before {color: black;}#sk-container-id-11 div.sk-toggleable__content {max-height: 0;max-width: 0;overflow: hidden;text-align: left;background-color: #f0f8ff;}#sk-container-id-11 div.sk-toggleable__content pre {margin: 0.2em;color: black;border-radius: 0.25em;background-color: #f0f8ff;}#sk-container-id-11 input.sk-toggleable__control:checked~div.sk-toggleable__content {max-height: 200px;max-width: 100%;overflow: auto;}#sk-container-id-11 input.sk-toggleable__control:checked~label.sk-toggleable__label-arrow:before {content: \"▾\";}#sk-container-id-11 div.sk-estimator input.sk-toggleable__control:checked~label.sk-toggleable__label {background-color: #d4ebff;}#sk-container-id-11 div.sk-label input.sk-toggleable__control:checked~label.sk-toggleable__label {background-color: #d4ebff;}#sk-container-id-11 input.sk-hidden--visually {border: 0;clip: rect(1px 1px 1px 1px);clip: rect(1px, 1px, 1px, 1px);height: 1px;margin: -1px;overflow: hidden;padding: 0;position: absolute;width: 1px;}#sk-container-id-11 div.sk-estimator {font-family: monospace;background-color: #f0f8ff;border: 1px dotted black;border-radius: 0.25em;box-sizing: border-box;margin-bottom: 0.5em;}#sk-container-id-11 div.sk-estimator:hover {background-color: #d4ebff;}#sk-container-id-11 div.sk-parallel-item::after {content: \"\";width: 100%;border-bottom: 1px solid gray;flex-grow: 1;}#sk-container-id-11 div.sk-label:hover label.sk-toggleable__label {background-color: #d4ebff;}#sk-container-id-11 div.sk-serial::before {content: \"\";position: absolute;border-left: 1px solid gray;box-sizing: border-box;top: 0;bottom: 0;left: 50%;z-index: 0;}#sk-container-id-11 div.sk-serial {display: flex;flex-direction: column;align-items: center;background-color: white;padding-right: 0.2em;padding-left: 0.2em;position: relative;}#sk-container-id-11 div.sk-item {position: relative;z-index: 1;}#sk-container-id-11 div.sk-parallel {display: flex;align-items: stretch;justify-content: center;background-color: white;position: relative;}#sk-container-id-11 div.sk-item::before, #sk-container-id-11 div.sk-parallel-item::before {content: \"\";position: absolute;border-left: 1px solid gray;box-sizing: border-box;top: 0;bottom: 0;left: 50%;z-index: -1;}#sk-container-id-11 div.sk-parallel-item {display: flex;flex-direction: column;z-index: 1;position: relative;background-color: white;}#sk-container-id-11 div.sk-parallel-item:first-child::after {align-self: flex-end;width: 50%;}#sk-container-id-11 div.sk-parallel-item:last-child::after {align-self: flex-start;width: 50%;}#sk-container-id-11 div.sk-parallel-item:only-child::after {width: 0;}#sk-container-id-11 div.sk-dashed-wrapped {border: 1px dashed gray;margin: 0 0.4em 0.5em 0.4em;box-sizing: border-box;padding-bottom: 0.4em;background-color: white;}#sk-container-id-11 div.sk-label label {font-family: monospace;font-weight: bold;display: inline-block;line-height: 1.2em;}#sk-container-id-11 div.sk-label-container {text-align: center;}#sk-container-id-11 div.sk-container {/* jupyter's `normalize.less` sets `[hidden] { display: none; }` but bootstrap.min.css set `[hidden] { display: none !important; }` so we also need the `!important` here to be able to override the default hidden behavior on the sphinx rendered scikit-learn.org. See: https://github.com/scikit-learn/scikit-learn/issues/21755 */display: inline-block !important;position: relative;}#sk-container-id-11 div.sk-text-repr-fallback {display: none;}</style><div id=\"sk-container-id-11\" class=\"sk-top-container\"><div class=\"sk-text-repr-fallback\"><pre>SVR()</pre><b>In a Jupyter environment, please rerun this cell to show the HTML representation or trust the notebook. <br />On GitHub, the HTML representation is unable to render, please try loading this page with nbviewer.org.</b></div><div class=\"sk-container\" hidden><div class=\"sk-item\"><div class=\"sk-estimator sk-toggleable\"><input class=\"sk-toggleable__control sk-hidden--visually\" id=\"sk-estimator-id-11\" type=\"checkbox\" checked><label for=\"sk-estimator-id-11\" class=\"sk-toggleable__label sk-toggleable__label-arrow\">SVR</label><div class=\"sk-toggleable__content\"><pre>SVR()</pre></div></div></div></div></div>"
      ],
      "text/plain": [
       "SVR()"
      ]
     },
     "execution_count": 53,
     "metadata": {},
     "output_type": "execute_result"
    }
   ],
   "source": [
    "svr.fit(X_train_reduced, y_train)"
   ]
  },
  {
   "cell_type": "markdown",
   "id": "4c0708ce-3e7c-4e9e-9122-eb6ce4f64963",
   "metadata": {},
   "source": [
    "#### Model Evaluation"
   ]
  },
  {
   "cell_type": "code",
   "execution_count": 54,
   "id": "be29e50f-d75a-4956-932d-c475b9a3c4bb",
   "metadata": {},
   "outputs": [
    {
     "data": {
      "text/html": [
       "<div>\n",
       "<style scoped>\n",
       "    .dataframe tbody tr th:only-of-type {\n",
       "        vertical-align: middle;\n",
       "    }\n",
       "\n",
       "    .dataframe tbody tr th {\n",
       "        vertical-align: top;\n",
       "    }\n",
       "\n",
       "    .dataframe thead th {\n",
       "        text-align: right;\n",
       "    }\n",
       "</style>\n",
       "<table border=\"1\" class=\"dataframe\">\n",
       "  <thead>\n",
       "    <tr style=\"text-align: right;\">\n",
       "      <th></th>\n",
       "      <th>svm</th>\n",
       "      <th>pls</th>\n",
       "      <th>isomap</th>\n",
       "      <th>lle</th>\n",
       "      <th>spec_emb</th>\n",
       "      <th>mds</th>\n",
       "      <th>tsne</th>\n",
       "      <th>pca</th>\n",
       "      <th>inc-pca</th>\n",
       "      <th>sparse-pca</th>\n",
       "      <th>kernel-pca</th>\n",
       "    </tr>\n",
       "  </thead>\n",
       "  <tbody>\n",
       "    <tr>\n",
       "      <th>R-squared Score</th>\n",
       "      <td>0.846243</td>\n",
       "      <td>0.802769</td>\n",
       "      <td>0.668215</td>\n",
       "      <td>0.155191</td>\n",
       "      <td>-0.107422</td>\n",
       "      <td>-1.493837</td>\n",
       "      <td>0.644331</td>\n",
       "      <td>0.744923</td>\n",
       "      <td>0.733979</td>\n",
       "      <td>0.743115</td>\n",
       "      <td>0.744921</td>\n",
       "    </tr>\n",
       "    <tr>\n",
       "      <th>MSE</th>\n",
       "      <td>13.544659</td>\n",
       "      <td>17.374400</td>\n",
       "      <td>29.227484</td>\n",
       "      <td>74.420566</td>\n",
       "      <td>97.554612</td>\n",
       "      <td>219.686111</td>\n",
       "      <td>31.331487</td>\n",
       "      <td>22.470131</td>\n",
       "      <td>23.434193</td>\n",
       "      <td>22.629376</td>\n",
       "      <td>22.470349</td>\n",
       "    </tr>\n",
       "  </tbody>\n",
       "</table>\n",
       "</div>"
      ],
      "text/plain": [
       "                       svm        pls     isomap        lle   spec_emb  \\\n",
       "R-squared Score   0.846243   0.802769   0.668215   0.155191  -0.107422   \n",
       "MSE              13.544659  17.374400  29.227484  74.420566  97.554612   \n",
       "\n",
       "                        mds       tsne        pca    inc-pca  sparse-pca  \\\n",
       "R-squared Score   -1.493837   0.644331   0.744923   0.733979    0.743115   \n",
       "MSE              219.686111  31.331487  22.470131  23.434193   22.629376   \n",
       "\n",
       "                 kernel-pca  \n",
       "R-squared Score    0.744921  \n",
       "MSE               22.470349  "
      ]
     },
     "execution_count": 54,
     "metadata": {},
     "output_type": "execute_result"
    }
   ],
   "source": [
    "y_pred = svr.predict(X_test_reduced)\n",
    "evaluations.loc['R-squared Score', 'kernel-pca'] = svr.score(X_test_reduced, y_test)\n",
    "evaluations.loc['MSE', 'kernel-pca'] = mean_squared_error(y_test, y_pred)\n",
    "evaluations"
   ]
  },
  {
   "cell_type": "markdown",
   "id": "26328df3-c85a-43d4-9436-bbeeff10bed6",
   "metadata": {},
   "source": [
    "#### KernelPCA is similar to PCA, and it is used in Non-Linear Dimensionality Reduction"
   ]
  },
  {
   "cell_type": "markdown",
   "id": "f12facb9-4aae-4671-b6f3-cf3e80dabc8a",
   "metadata": {},
   "source": [
    "#### 12. TruncatedSVD"
   ]
  },
  {
   "cell_type": "code",
   "execution_count": 55,
   "id": "e1e77022-98b6-4d38-bc1e-7b917c25408e",
   "metadata": {},
   "outputs": [
    {
     "data": {
      "text/plain": [
       "{'algorithm': 'randomized',\n",
       " 'n_components': 3,\n",
       " 'n_iter': 5,\n",
       " 'n_oversamples': 10,\n",
       " 'power_iteration_normalizer': 'auto',\n",
       " 'random_state': None,\n",
       " 'tol': 0.0}"
      ]
     },
     "execution_count": 55,
     "metadata": {},
     "output_type": "execute_result"
    }
   ],
   "source": [
    "from sklearn.decomposition import TruncatedSVD\n",
    "tsvd = TruncatedSVD(n_components=3)\n",
    "tsvd.get_params()"
   ]
  },
  {
   "cell_type": "markdown",
   "id": "0705ec4a-bdef-40d5-9690-38a656e2870b",
   "metadata": {},
   "source": [
    "#### Dimension reduction using Truncated SVD"
   ]
  },
  {
   "cell_type": "code",
   "execution_count": 56,
   "id": "b8f88728-11e3-433b-9a3e-6d45fa65fc78",
   "metadata": {},
   "outputs": [
    {
     "data": {
      "text/plain": [
       "((2350, 3), (588, 3))"
      ]
     },
     "execution_count": 56,
     "metadata": {},
     "output_type": "execute_result"
    }
   ],
   "source": [
    "X_train_reduced = tsvd.fit_transform(X_train_scaled)\n",
    "X_test_reduced = tsvd.transform(X_test_scaled)\n",
    "X_train_reduced.shape,X_test_reduced.shape"
   ]
  },
  {
   "cell_type": "markdown",
   "id": "c72eafb3-7a40-4da4-be5e-f5b250e52ffa",
   "metadata": {},
   "source": [
    "#### Model trained on dimension reduced data"
   ]
  },
  {
   "cell_type": "code",
   "execution_count": 57,
   "id": "9cde98ec-da0c-45dd-ba03-b8ea5e6d98ce",
   "metadata": {},
   "outputs": [
    {
     "data": {
      "text/html": [
       "<style>#sk-container-id-12 {color: black;background-color: white;}#sk-container-id-12 pre{padding: 0;}#sk-container-id-12 div.sk-toggleable {background-color: white;}#sk-container-id-12 label.sk-toggleable__label {cursor: pointer;display: block;width: 100%;margin-bottom: 0;padding: 0.3em;box-sizing: border-box;text-align: center;}#sk-container-id-12 label.sk-toggleable__label-arrow:before {content: \"▸\";float: left;margin-right: 0.25em;color: #696969;}#sk-container-id-12 label.sk-toggleable__label-arrow:hover:before {color: black;}#sk-container-id-12 div.sk-estimator:hover label.sk-toggleable__label-arrow:before {color: black;}#sk-container-id-12 div.sk-toggleable__content {max-height: 0;max-width: 0;overflow: hidden;text-align: left;background-color: #f0f8ff;}#sk-container-id-12 div.sk-toggleable__content pre {margin: 0.2em;color: black;border-radius: 0.25em;background-color: #f0f8ff;}#sk-container-id-12 input.sk-toggleable__control:checked~div.sk-toggleable__content {max-height: 200px;max-width: 100%;overflow: auto;}#sk-container-id-12 input.sk-toggleable__control:checked~label.sk-toggleable__label-arrow:before {content: \"▾\";}#sk-container-id-12 div.sk-estimator input.sk-toggleable__control:checked~label.sk-toggleable__label {background-color: #d4ebff;}#sk-container-id-12 div.sk-label input.sk-toggleable__control:checked~label.sk-toggleable__label {background-color: #d4ebff;}#sk-container-id-12 input.sk-hidden--visually {border: 0;clip: rect(1px 1px 1px 1px);clip: rect(1px, 1px, 1px, 1px);height: 1px;margin: -1px;overflow: hidden;padding: 0;position: absolute;width: 1px;}#sk-container-id-12 div.sk-estimator {font-family: monospace;background-color: #f0f8ff;border: 1px dotted black;border-radius: 0.25em;box-sizing: border-box;margin-bottom: 0.5em;}#sk-container-id-12 div.sk-estimator:hover {background-color: #d4ebff;}#sk-container-id-12 div.sk-parallel-item::after {content: \"\";width: 100%;border-bottom: 1px solid gray;flex-grow: 1;}#sk-container-id-12 div.sk-label:hover label.sk-toggleable__label {background-color: #d4ebff;}#sk-container-id-12 div.sk-serial::before {content: \"\";position: absolute;border-left: 1px solid gray;box-sizing: border-box;top: 0;bottom: 0;left: 50%;z-index: 0;}#sk-container-id-12 div.sk-serial {display: flex;flex-direction: column;align-items: center;background-color: white;padding-right: 0.2em;padding-left: 0.2em;position: relative;}#sk-container-id-12 div.sk-item {position: relative;z-index: 1;}#sk-container-id-12 div.sk-parallel {display: flex;align-items: stretch;justify-content: center;background-color: white;position: relative;}#sk-container-id-12 div.sk-item::before, #sk-container-id-12 div.sk-parallel-item::before {content: \"\";position: absolute;border-left: 1px solid gray;box-sizing: border-box;top: 0;bottom: 0;left: 50%;z-index: -1;}#sk-container-id-12 div.sk-parallel-item {display: flex;flex-direction: column;z-index: 1;position: relative;background-color: white;}#sk-container-id-12 div.sk-parallel-item:first-child::after {align-self: flex-end;width: 50%;}#sk-container-id-12 div.sk-parallel-item:last-child::after {align-self: flex-start;width: 50%;}#sk-container-id-12 div.sk-parallel-item:only-child::after {width: 0;}#sk-container-id-12 div.sk-dashed-wrapped {border: 1px dashed gray;margin: 0 0.4em 0.5em 0.4em;box-sizing: border-box;padding-bottom: 0.4em;background-color: white;}#sk-container-id-12 div.sk-label label {font-family: monospace;font-weight: bold;display: inline-block;line-height: 1.2em;}#sk-container-id-12 div.sk-label-container {text-align: center;}#sk-container-id-12 div.sk-container {/* jupyter's `normalize.less` sets `[hidden] { display: none; }` but bootstrap.min.css set `[hidden] { display: none !important; }` so we also need the `!important` here to be able to override the default hidden behavior on the sphinx rendered scikit-learn.org. See: https://github.com/scikit-learn/scikit-learn/issues/21755 */display: inline-block !important;position: relative;}#sk-container-id-12 div.sk-text-repr-fallback {display: none;}</style><div id=\"sk-container-id-12\" class=\"sk-top-container\"><div class=\"sk-text-repr-fallback\"><pre>SVR()</pre><b>In a Jupyter environment, please rerun this cell to show the HTML representation or trust the notebook. <br />On GitHub, the HTML representation is unable to render, please try loading this page with nbviewer.org.</b></div><div class=\"sk-container\" hidden><div class=\"sk-item\"><div class=\"sk-estimator sk-toggleable\"><input class=\"sk-toggleable__control sk-hidden--visually\" id=\"sk-estimator-id-12\" type=\"checkbox\" checked><label for=\"sk-estimator-id-12\" class=\"sk-toggleable__label sk-toggleable__label-arrow\">SVR</label><div class=\"sk-toggleable__content\"><pre>SVR()</pre></div></div></div></div></div>"
      ],
      "text/plain": [
       "SVR()"
      ]
     },
     "execution_count": 57,
     "metadata": {},
     "output_type": "execute_result"
    }
   ],
   "source": [
    "svr.fit(X_train_reduced, y_train)"
   ]
  },
  {
   "cell_type": "markdown",
   "id": "ab79a5c4-3397-4440-87fc-0259e723d852",
   "metadata": {},
   "source": [
    "#### Model Evaluation"
   ]
  },
  {
   "cell_type": "code",
   "execution_count": 58,
   "id": "e9ce1db4-4deb-42b8-9311-06186e3021b2",
   "metadata": {},
   "outputs": [
    {
     "data": {
      "text/html": [
       "<div>\n",
       "<style scoped>\n",
       "    .dataframe tbody tr th:only-of-type {\n",
       "        vertical-align: middle;\n",
       "    }\n",
       "\n",
       "    .dataframe tbody tr th {\n",
       "        vertical-align: top;\n",
       "    }\n",
       "\n",
       "    .dataframe thead th {\n",
       "        text-align: right;\n",
       "    }\n",
       "</style>\n",
       "<table border=\"1\" class=\"dataframe\">\n",
       "  <thead>\n",
       "    <tr style=\"text-align: right;\">\n",
       "      <th></th>\n",
       "      <th>svm</th>\n",
       "      <th>pls</th>\n",
       "      <th>isomap</th>\n",
       "      <th>lle</th>\n",
       "      <th>spec_emb</th>\n",
       "      <th>mds</th>\n",
       "      <th>tsne</th>\n",
       "      <th>pca</th>\n",
       "      <th>inc-pca</th>\n",
       "      <th>sparse-pca</th>\n",
       "      <th>kernel-pca</th>\n",
       "      <th>tsvd</th>\n",
       "    </tr>\n",
       "  </thead>\n",
       "  <tbody>\n",
       "    <tr>\n",
       "      <th>R-squared Score</th>\n",
       "      <td>0.846243</td>\n",
       "      <td>0.802769</td>\n",
       "      <td>0.668215</td>\n",
       "      <td>0.155191</td>\n",
       "      <td>-0.107422</td>\n",
       "      <td>-1.493837</td>\n",
       "      <td>0.644331</td>\n",
       "      <td>0.744923</td>\n",
       "      <td>0.733979</td>\n",
       "      <td>0.743115</td>\n",
       "      <td>0.744921</td>\n",
       "      <td>0.744921</td>\n",
       "    </tr>\n",
       "    <tr>\n",
       "      <th>MSE</th>\n",
       "      <td>13.544659</td>\n",
       "      <td>17.374400</td>\n",
       "      <td>29.227484</td>\n",
       "      <td>74.420566</td>\n",
       "      <td>97.554612</td>\n",
       "      <td>219.686111</td>\n",
       "      <td>31.331487</td>\n",
       "      <td>22.470131</td>\n",
       "      <td>23.434193</td>\n",
       "      <td>22.629376</td>\n",
       "      <td>22.470349</td>\n",
       "      <td>22.470276</td>\n",
       "    </tr>\n",
       "  </tbody>\n",
       "</table>\n",
       "</div>"
      ],
      "text/plain": [
       "                       svm        pls     isomap        lle   spec_emb  \\\n",
       "R-squared Score   0.846243   0.802769   0.668215   0.155191  -0.107422   \n",
       "MSE              13.544659  17.374400  29.227484  74.420566  97.554612   \n",
       "\n",
       "                        mds       tsne        pca    inc-pca  sparse-pca  \\\n",
       "R-squared Score   -1.493837   0.644331   0.744923   0.733979    0.743115   \n",
       "MSE              219.686111  31.331487  22.470131  23.434193   22.629376   \n",
       "\n",
       "                 kernel-pca       tsvd  \n",
       "R-squared Score    0.744921   0.744921  \n",
       "MSE               22.470349  22.470276  "
      ]
     },
     "execution_count": 58,
     "metadata": {},
     "output_type": "execute_result"
    }
   ],
   "source": [
    "y_pred = svr.predict(X_test_reduced)\n",
    "evaluations.loc['R-squared Score', 'tsvd'] = svr.score(X_test_reduced, y_test)\n",
    "evaluations.loc['MSE', 'tsvd'] = mean_squared_error(y_test, y_pred)\n",
    "evaluations"
   ]
  },
  {
   "cell_type": "markdown",
   "id": "cc5c6c1f-6c24-4e0a-a7e3-f65df808ec44",
   "metadata": {},
   "source": [
    "#### TruncatedSVD works efficiently with sparse matrices, and it Gave good Results"
   ]
  },
  {
   "cell_type": "markdown",
   "id": "1b3b58f9-97f6-4cd5-941f-585612631067",
   "metadata": {},
   "source": [
    "#### 13. FastICA (Independent Component Analysis)"
   ]
  },
  {
   "cell_type": "code",
   "execution_count": 59,
   "id": "38d226ba-e042-4023-accf-6b31c3d0fa00",
   "metadata": {},
   "outputs": [
    {
     "data": {
      "text/plain": [
       "{'algorithm': 'parallel',\n",
       " 'fun': 'logcosh',\n",
       " 'fun_args': None,\n",
       " 'max_iter': 200,\n",
       " 'n_components': 3,\n",
       " 'random_state': None,\n",
       " 'tol': 0.0001,\n",
       " 'w_init': None,\n",
       " 'whiten': 'warn',\n",
       " 'whiten_solver': 'svd'}"
      ]
     },
     "execution_count": 59,
     "metadata": {},
     "output_type": "execute_result"
    }
   ],
   "source": [
    "from sklearn.decomposition import FastICA\n",
    "fica = FastICA(n_components=3)\n",
    "fica.get_params()"
   ]
  },
  {
   "cell_type": "markdown",
   "id": "bd8a4c30-f7c7-4e64-a888-6d66f3d2499b",
   "metadata": {},
   "source": [
    "#### Dimension reduction using FastICA"
   ]
  },
  {
   "cell_type": "code",
   "execution_count": 60,
   "id": "f8190398-6031-4007-be47-91b01b8104c6",
   "metadata": {},
   "outputs": [
    {
     "data": {
      "text/plain": [
       "((2350, 3), (588, 3))"
      ]
     },
     "execution_count": 60,
     "metadata": {},
     "output_type": "execute_result"
    }
   ],
   "source": [
    "X_train_reduced = fica.fit_transform(X_train_scaled)\n",
    "X_test_reduced = fica.transform(X_test_scaled)\n",
    "X_train_reduced.shape,X_test_reduced.shape"
   ]
  },
  {
   "cell_type": "markdown",
   "id": "50273d95-9d9b-42c7-9c9f-ca499e447e92",
   "metadata": {},
   "source": [
    "#### Model trained on dimension reduced data"
   ]
  },
  {
   "cell_type": "code",
   "execution_count": 61,
   "id": "97ce3879-ea26-463b-93fa-83c684dc5c07",
   "metadata": {},
   "outputs": [
    {
     "data": {
      "text/html": [
       "<style>#sk-container-id-13 {color: black;background-color: white;}#sk-container-id-13 pre{padding: 0;}#sk-container-id-13 div.sk-toggleable {background-color: white;}#sk-container-id-13 label.sk-toggleable__label {cursor: pointer;display: block;width: 100%;margin-bottom: 0;padding: 0.3em;box-sizing: border-box;text-align: center;}#sk-container-id-13 label.sk-toggleable__label-arrow:before {content: \"▸\";float: left;margin-right: 0.25em;color: #696969;}#sk-container-id-13 label.sk-toggleable__label-arrow:hover:before {color: black;}#sk-container-id-13 div.sk-estimator:hover label.sk-toggleable__label-arrow:before {color: black;}#sk-container-id-13 div.sk-toggleable__content {max-height: 0;max-width: 0;overflow: hidden;text-align: left;background-color: #f0f8ff;}#sk-container-id-13 div.sk-toggleable__content pre {margin: 0.2em;color: black;border-radius: 0.25em;background-color: #f0f8ff;}#sk-container-id-13 input.sk-toggleable__control:checked~div.sk-toggleable__content {max-height: 200px;max-width: 100%;overflow: auto;}#sk-container-id-13 input.sk-toggleable__control:checked~label.sk-toggleable__label-arrow:before {content: \"▾\";}#sk-container-id-13 div.sk-estimator input.sk-toggleable__control:checked~label.sk-toggleable__label {background-color: #d4ebff;}#sk-container-id-13 div.sk-label input.sk-toggleable__control:checked~label.sk-toggleable__label {background-color: #d4ebff;}#sk-container-id-13 input.sk-hidden--visually {border: 0;clip: rect(1px 1px 1px 1px);clip: rect(1px, 1px, 1px, 1px);height: 1px;margin: -1px;overflow: hidden;padding: 0;position: absolute;width: 1px;}#sk-container-id-13 div.sk-estimator {font-family: monospace;background-color: #f0f8ff;border: 1px dotted black;border-radius: 0.25em;box-sizing: border-box;margin-bottom: 0.5em;}#sk-container-id-13 div.sk-estimator:hover {background-color: #d4ebff;}#sk-container-id-13 div.sk-parallel-item::after {content: \"\";width: 100%;border-bottom: 1px solid gray;flex-grow: 1;}#sk-container-id-13 div.sk-label:hover label.sk-toggleable__label {background-color: #d4ebff;}#sk-container-id-13 div.sk-serial::before {content: \"\";position: absolute;border-left: 1px solid gray;box-sizing: border-box;top: 0;bottom: 0;left: 50%;z-index: 0;}#sk-container-id-13 div.sk-serial {display: flex;flex-direction: column;align-items: center;background-color: white;padding-right: 0.2em;padding-left: 0.2em;position: relative;}#sk-container-id-13 div.sk-item {position: relative;z-index: 1;}#sk-container-id-13 div.sk-parallel {display: flex;align-items: stretch;justify-content: center;background-color: white;position: relative;}#sk-container-id-13 div.sk-item::before, #sk-container-id-13 div.sk-parallel-item::before {content: \"\";position: absolute;border-left: 1px solid gray;box-sizing: border-box;top: 0;bottom: 0;left: 50%;z-index: -1;}#sk-container-id-13 div.sk-parallel-item {display: flex;flex-direction: column;z-index: 1;position: relative;background-color: white;}#sk-container-id-13 div.sk-parallel-item:first-child::after {align-self: flex-end;width: 50%;}#sk-container-id-13 div.sk-parallel-item:last-child::after {align-self: flex-start;width: 50%;}#sk-container-id-13 div.sk-parallel-item:only-child::after {width: 0;}#sk-container-id-13 div.sk-dashed-wrapped {border: 1px dashed gray;margin: 0 0.4em 0.5em 0.4em;box-sizing: border-box;padding-bottom: 0.4em;background-color: white;}#sk-container-id-13 div.sk-label label {font-family: monospace;font-weight: bold;display: inline-block;line-height: 1.2em;}#sk-container-id-13 div.sk-label-container {text-align: center;}#sk-container-id-13 div.sk-container {/* jupyter's `normalize.less` sets `[hidden] { display: none; }` but bootstrap.min.css set `[hidden] { display: none !important; }` so we also need the `!important` here to be able to override the default hidden behavior on the sphinx rendered scikit-learn.org. See: https://github.com/scikit-learn/scikit-learn/issues/21755 */display: inline-block !important;position: relative;}#sk-container-id-13 div.sk-text-repr-fallback {display: none;}</style><div id=\"sk-container-id-13\" class=\"sk-top-container\"><div class=\"sk-text-repr-fallback\"><pre>SVR()</pre><b>In a Jupyter environment, please rerun this cell to show the HTML representation or trust the notebook. <br />On GitHub, the HTML representation is unable to render, please try loading this page with nbviewer.org.</b></div><div class=\"sk-container\" hidden><div class=\"sk-item\"><div class=\"sk-estimator sk-toggleable\"><input class=\"sk-toggleable__control sk-hidden--visually\" id=\"sk-estimator-id-13\" type=\"checkbox\" checked><label for=\"sk-estimator-id-13\" class=\"sk-toggleable__label sk-toggleable__label-arrow\">SVR</label><div class=\"sk-toggleable__content\"><pre>SVR()</pre></div></div></div></div></div>"
      ],
      "text/plain": [
       "SVR()"
      ]
     },
     "execution_count": 61,
     "metadata": {},
     "output_type": "execute_result"
    }
   ],
   "source": [
    "svr.fit(X_train_reduced, y_train)"
   ]
  },
  {
   "cell_type": "markdown",
   "id": "5f9732e2-815c-422b-a911-da0c62f33bfc",
   "metadata": {},
   "source": [
    "#### Model Evaluation"
   ]
  },
  {
   "cell_type": "code",
   "execution_count": 62,
   "id": "bb754377-8661-445a-9b96-0aae133550d2",
   "metadata": {},
   "outputs": [
    {
     "data": {
      "text/html": [
       "<div>\n",
       "<style scoped>\n",
       "    .dataframe tbody tr th:only-of-type {\n",
       "        vertical-align: middle;\n",
       "    }\n",
       "\n",
       "    .dataframe tbody tr th {\n",
       "        vertical-align: top;\n",
       "    }\n",
       "\n",
       "    .dataframe thead th {\n",
       "        text-align: right;\n",
       "    }\n",
       "</style>\n",
       "<table border=\"1\" class=\"dataframe\">\n",
       "  <thead>\n",
       "    <tr style=\"text-align: right;\">\n",
       "      <th></th>\n",
       "      <th>svm</th>\n",
       "      <th>pls</th>\n",
       "      <th>isomap</th>\n",
       "      <th>lle</th>\n",
       "      <th>spec_emb</th>\n",
       "      <th>mds</th>\n",
       "      <th>tsne</th>\n",
       "      <th>pca</th>\n",
       "      <th>inc-pca</th>\n",
       "      <th>sparse-pca</th>\n",
       "      <th>kernel-pca</th>\n",
       "      <th>tsvd</th>\n",
       "      <th>fast-ica</th>\n",
       "    </tr>\n",
       "  </thead>\n",
       "  <tbody>\n",
       "    <tr>\n",
       "      <th>R-squared Score</th>\n",
       "      <td>0.846243</td>\n",
       "      <td>0.802769</td>\n",
       "      <td>0.668215</td>\n",
       "      <td>0.155191</td>\n",
       "      <td>-0.107422</td>\n",
       "      <td>-1.493837</td>\n",
       "      <td>0.644331</td>\n",
       "      <td>0.744923</td>\n",
       "      <td>0.733979</td>\n",
       "      <td>0.743115</td>\n",
       "      <td>0.744921</td>\n",
       "      <td>0.744921</td>\n",
       "      <td>0.742886</td>\n",
       "    </tr>\n",
       "    <tr>\n",
       "      <th>MSE</th>\n",
       "      <td>13.544659</td>\n",
       "      <td>17.374400</td>\n",
       "      <td>29.227484</td>\n",
       "      <td>74.420566</td>\n",
       "      <td>97.554612</td>\n",
       "      <td>219.686111</td>\n",
       "      <td>31.331487</td>\n",
       "      <td>22.470131</td>\n",
       "      <td>23.434193</td>\n",
       "      <td>22.629376</td>\n",
       "      <td>22.470349</td>\n",
       "      <td>22.470276</td>\n",
       "      <td>22.649623</td>\n",
       "    </tr>\n",
       "  </tbody>\n",
       "</table>\n",
       "</div>"
      ],
      "text/plain": [
       "                       svm        pls     isomap        lle   spec_emb  \\\n",
       "R-squared Score   0.846243   0.802769   0.668215   0.155191  -0.107422   \n",
       "MSE              13.544659  17.374400  29.227484  74.420566  97.554612   \n",
       "\n",
       "                        mds       tsne        pca    inc-pca  sparse-pca  \\\n",
       "R-squared Score   -1.493837   0.644331   0.744923   0.733979    0.743115   \n",
       "MSE              219.686111  31.331487  22.470131  23.434193   22.629376   \n",
       "\n",
       "                 kernel-pca       tsvd   fast-ica  \n",
       "R-squared Score    0.744921   0.744921   0.742886  \n",
       "MSE               22.470349  22.470276  22.649623  "
      ]
     },
     "execution_count": 62,
     "metadata": {},
     "output_type": "execute_result"
    }
   ],
   "source": [
    "y_pred = svr.predict(X_test_reduced)\n",
    "evaluations.loc['R-squared Score', 'fast-ica'] = svr.score(X_test_reduced, y_test)\n",
    "evaluations.loc['MSE', 'fast-ica'] = mean_squared_error(y_test, y_pred)\n",
    "evaluations"
   ]
  },
  {
   "cell_type": "markdown",
   "id": "d3d9a720-7cfe-43ed-9f2d-f639071239f2",
   "metadata": {},
   "source": [
    "#### FastICA Gave good results, and it is used for separating superimposed signals"
   ]
  },
  {
   "cell_type": "markdown",
   "id": "3c899e70-1a71-4f4b-bc57-1249fda431ea",
   "metadata": {},
   "source": [
    "#### 14. NMF (Non-Negative Matrix Factorization)"
   ]
  },
  {
   "cell_type": "code",
   "execution_count": 63,
   "id": "8ef5d4b7-fde7-4699-ab5b-bacf98fa546f",
   "metadata": {},
   "outputs": [
    {
     "data": {
      "text/plain": [
       "{'alpha_H': 'same',\n",
       " 'alpha_W': 0.0,\n",
       " 'beta_loss': 'frobenius',\n",
       " 'init': None,\n",
       " 'l1_ratio': 0.0,\n",
       " 'max_iter': 200,\n",
       " 'n_components': 3,\n",
       " 'random_state': None,\n",
       " 'shuffle': False,\n",
       " 'solver': 'cd',\n",
       " 'tol': 0.0001,\n",
       " 'verbose': 0}"
      ]
     },
     "execution_count": 63,
     "metadata": {},
     "output_type": "execute_result"
    }
   ],
   "source": [
    "from sklearn.decomposition import NMF\n",
    "nmf = NMF(n_components=3)\n",
    "nmf.get_params()"
   ]
  },
  {
   "cell_type": "markdown",
   "id": "8da5edc2-55a1-428d-ac25-7c5bb62bef37",
   "metadata": {},
   "source": [
    "#### Data Preprocessing"
   ]
  },
  {
   "cell_type": "code",
   "execution_count": 64,
   "id": "4d0a4ff3-20fd-41c1-85d2-f8318271dc54",
   "metadata": {},
   "outputs": [],
   "source": [
    "from sklearn.preprocessing import MinMaxScaler\n",
    "scaler = MinMaxScaler()\n",
    "X_train_scaled = scaler.fit_transform(X_train)\n",
    "X_test_scaled = scaler.fit_transform(X_test)"
   ]
  },
  {
   "cell_type": "markdown",
   "id": "22e05006-8de9-470e-9c7b-b59a13f06ad4",
   "metadata": {},
   "source": [
    "#### Dimension reduction using NMF"
   ]
  },
  {
   "cell_type": "code",
   "execution_count": 65,
   "id": "de495d41-f414-47b6-9911-29267eacbfdc",
   "metadata": {},
   "outputs": [
    {
     "data": {
      "text/plain": [
       "((2350, 3), (588, 3))"
      ]
     },
     "execution_count": 65,
     "metadata": {},
     "output_type": "execute_result"
    }
   ],
   "source": [
    "X_train_reduced = nmf.fit_transform(X_train_scaled)\n",
    "X_test_reduced = nmf.transform(X_test_scaled)\n",
    "X_train_reduced.shape,X_test_reduced.shape"
   ]
  },
  {
   "cell_type": "markdown",
   "id": "62661fcc-455c-4d7f-9a6f-d4ef4cc6fa2f",
   "metadata": {},
   "source": [
    "#### Model trained on dimension reduced data"
   ]
  },
  {
   "cell_type": "code",
   "execution_count": 66,
   "id": "9b4a9873-ad1e-4993-ad81-4ec952f234c1",
   "metadata": {},
   "outputs": [
    {
     "data": {
      "text/html": [
       "<style>#sk-container-id-14 {color: black;background-color: white;}#sk-container-id-14 pre{padding: 0;}#sk-container-id-14 div.sk-toggleable {background-color: white;}#sk-container-id-14 label.sk-toggleable__label {cursor: pointer;display: block;width: 100%;margin-bottom: 0;padding: 0.3em;box-sizing: border-box;text-align: center;}#sk-container-id-14 label.sk-toggleable__label-arrow:before {content: \"▸\";float: left;margin-right: 0.25em;color: #696969;}#sk-container-id-14 label.sk-toggleable__label-arrow:hover:before {color: black;}#sk-container-id-14 div.sk-estimator:hover label.sk-toggleable__label-arrow:before {color: black;}#sk-container-id-14 div.sk-toggleable__content {max-height: 0;max-width: 0;overflow: hidden;text-align: left;background-color: #f0f8ff;}#sk-container-id-14 div.sk-toggleable__content pre {margin: 0.2em;color: black;border-radius: 0.25em;background-color: #f0f8ff;}#sk-container-id-14 input.sk-toggleable__control:checked~div.sk-toggleable__content {max-height: 200px;max-width: 100%;overflow: auto;}#sk-container-id-14 input.sk-toggleable__control:checked~label.sk-toggleable__label-arrow:before {content: \"▾\";}#sk-container-id-14 div.sk-estimator input.sk-toggleable__control:checked~label.sk-toggleable__label {background-color: #d4ebff;}#sk-container-id-14 div.sk-label input.sk-toggleable__control:checked~label.sk-toggleable__label {background-color: #d4ebff;}#sk-container-id-14 input.sk-hidden--visually {border: 0;clip: rect(1px 1px 1px 1px);clip: rect(1px, 1px, 1px, 1px);height: 1px;margin: -1px;overflow: hidden;padding: 0;position: absolute;width: 1px;}#sk-container-id-14 div.sk-estimator {font-family: monospace;background-color: #f0f8ff;border: 1px dotted black;border-radius: 0.25em;box-sizing: border-box;margin-bottom: 0.5em;}#sk-container-id-14 div.sk-estimator:hover {background-color: #d4ebff;}#sk-container-id-14 div.sk-parallel-item::after {content: \"\";width: 100%;border-bottom: 1px solid gray;flex-grow: 1;}#sk-container-id-14 div.sk-label:hover label.sk-toggleable__label {background-color: #d4ebff;}#sk-container-id-14 div.sk-serial::before {content: \"\";position: absolute;border-left: 1px solid gray;box-sizing: border-box;top: 0;bottom: 0;left: 50%;z-index: 0;}#sk-container-id-14 div.sk-serial {display: flex;flex-direction: column;align-items: center;background-color: white;padding-right: 0.2em;padding-left: 0.2em;position: relative;}#sk-container-id-14 div.sk-item {position: relative;z-index: 1;}#sk-container-id-14 div.sk-parallel {display: flex;align-items: stretch;justify-content: center;background-color: white;position: relative;}#sk-container-id-14 div.sk-item::before, #sk-container-id-14 div.sk-parallel-item::before {content: \"\";position: absolute;border-left: 1px solid gray;box-sizing: border-box;top: 0;bottom: 0;left: 50%;z-index: -1;}#sk-container-id-14 div.sk-parallel-item {display: flex;flex-direction: column;z-index: 1;position: relative;background-color: white;}#sk-container-id-14 div.sk-parallel-item:first-child::after {align-self: flex-end;width: 50%;}#sk-container-id-14 div.sk-parallel-item:last-child::after {align-self: flex-start;width: 50%;}#sk-container-id-14 div.sk-parallel-item:only-child::after {width: 0;}#sk-container-id-14 div.sk-dashed-wrapped {border: 1px dashed gray;margin: 0 0.4em 0.5em 0.4em;box-sizing: border-box;padding-bottom: 0.4em;background-color: white;}#sk-container-id-14 div.sk-label label {font-family: monospace;font-weight: bold;display: inline-block;line-height: 1.2em;}#sk-container-id-14 div.sk-label-container {text-align: center;}#sk-container-id-14 div.sk-container {/* jupyter's `normalize.less` sets `[hidden] { display: none; }` but bootstrap.min.css set `[hidden] { display: none !important; }` so we also need the `!important` here to be able to override the default hidden behavior on the sphinx rendered scikit-learn.org. See: https://github.com/scikit-learn/scikit-learn/issues/21755 */display: inline-block !important;position: relative;}#sk-container-id-14 div.sk-text-repr-fallback {display: none;}</style><div id=\"sk-container-id-14\" class=\"sk-top-container\"><div class=\"sk-text-repr-fallback\"><pre>SVR()</pre><b>In a Jupyter environment, please rerun this cell to show the HTML representation or trust the notebook. <br />On GitHub, the HTML representation is unable to render, please try loading this page with nbviewer.org.</b></div><div class=\"sk-container\" hidden><div class=\"sk-item\"><div class=\"sk-estimator sk-toggleable\"><input class=\"sk-toggleable__control sk-hidden--visually\" id=\"sk-estimator-id-14\" type=\"checkbox\" checked><label for=\"sk-estimator-id-14\" class=\"sk-toggleable__label sk-toggleable__label-arrow\">SVR</label><div class=\"sk-toggleable__content\"><pre>SVR()</pre></div></div></div></div></div>"
      ],
      "text/plain": [
       "SVR()"
      ]
     },
     "execution_count": 66,
     "metadata": {},
     "output_type": "execute_result"
    }
   ],
   "source": [
    "svr.fit(X_train_reduced, y_train)"
   ]
  },
  {
   "cell_type": "markdown",
   "id": "62fa80b7-62f0-47bc-b018-20bf746d2801",
   "metadata": {},
   "source": [
    "#### Model Evaluation"
   ]
  },
  {
   "cell_type": "code",
   "execution_count": 67,
   "id": "cf55d224-4ddd-48f0-b80c-0a4a196f8aba",
   "metadata": {},
   "outputs": [
    {
     "data": {
      "text/html": [
       "<div>\n",
       "<style scoped>\n",
       "    .dataframe tbody tr th:only-of-type {\n",
       "        vertical-align: middle;\n",
       "    }\n",
       "\n",
       "    .dataframe tbody tr th {\n",
       "        vertical-align: top;\n",
       "    }\n",
       "\n",
       "    .dataframe thead th {\n",
       "        text-align: right;\n",
       "    }\n",
       "</style>\n",
       "<table border=\"1\" class=\"dataframe\">\n",
       "  <thead>\n",
       "    <tr style=\"text-align: right;\">\n",
       "      <th></th>\n",
       "      <th>svm</th>\n",
       "      <th>pls</th>\n",
       "      <th>isomap</th>\n",
       "      <th>lle</th>\n",
       "      <th>spec_emb</th>\n",
       "      <th>mds</th>\n",
       "      <th>tsne</th>\n",
       "      <th>pca</th>\n",
       "      <th>inc-pca</th>\n",
       "      <th>sparse-pca</th>\n",
       "      <th>kernel-pca</th>\n",
       "      <th>tsvd</th>\n",
       "      <th>fast-ica</th>\n",
       "      <th>nmf</th>\n",
       "    </tr>\n",
       "  </thead>\n",
       "  <tbody>\n",
       "    <tr>\n",
       "      <th>R-squared Score</th>\n",
       "      <td>0.846243</td>\n",
       "      <td>0.802769</td>\n",
       "      <td>0.668215</td>\n",
       "      <td>0.155191</td>\n",
       "      <td>-0.107422</td>\n",
       "      <td>-1.493837</td>\n",
       "      <td>0.644331</td>\n",
       "      <td>0.744923</td>\n",
       "      <td>0.733979</td>\n",
       "      <td>0.743115</td>\n",
       "      <td>0.744921</td>\n",
       "      <td>0.744921</td>\n",
       "      <td>0.742886</td>\n",
       "      <td>0.652845</td>\n",
       "    </tr>\n",
       "    <tr>\n",
       "      <th>MSE</th>\n",
       "      <td>13.544659</td>\n",
       "      <td>17.374400</td>\n",
       "      <td>29.227484</td>\n",
       "      <td>74.420566</td>\n",
       "      <td>97.554612</td>\n",
       "      <td>219.686111</td>\n",
       "      <td>31.331487</td>\n",
       "      <td>22.470131</td>\n",
       "      <td>23.434193</td>\n",
       "      <td>22.629376</td>\n",
       "      <td>22.470349</td>\n",
       "      <td>22.470276</td>\n",
       "      <td>22.649623</td>\n",
       "      <td>30.581463</td>\n",
       "    </tr>\n",
       "  </tbody>\n",
       "</table>\n",
       "</div>"
      ],
      "text/plain": [
       "                       svm        pls     isomap        lle   spec_emb  \\\n",
       "R-squared Score   0.846243   0.802769   0.668215   0.155191  -0.107422   \n",
       "MSE              13.544659  17.374400  29.227484  74.420566  97.554612   \n",
       "\n",
       "                        mds       tsne        pca    inc-pca  sparse-pca  \\\n",
       "R-squared Score   -1.493837   0.644331   0.744923   0.733979    0.743115   \n",
       "MSE              219.686111  31.331487  22.470131  23.434193   22.629376   \n",
       "\n",
       "                 kernel-pca       tsvd   fast-ica        nmf  \n",
       "R-squared Score    0.744921   0.744921   0.742886   0.652845  \n",
       "MSE               22.470349  22.470276  22.649623  30.581463  "
      ]
     },
     "execution_count": 67,
     "metadata": {},
     "output_type": "execute_result"
    }
   ],
   "source": [
    "y_pred = svr.predict(X_test_reduced)\n",
    "evaluations.loc['R-squared Score', 'nmf'] = svr.score(X_test_reduced, y_test)\n",
    "evaluations.loc['MSE', 'nmf'] = mean_squared_error(y_test, y_pred)\n",
    "evaluations"
   ]
  },
  {
   "cell_type": "markdown",
   "id": "21169fc1-5e6c-46ae-a764-b6566f86538e",
   "metadata": {},
   "source": [
    "#### NMF gave good results, it is used for source separation, and topic extraction"
   ]
  },
  {
   "cell_type": "markdown",
   "id": "5abc46ad-6e21-4a31-af47-c845b5ad6a52",
   "metadata": {},
   "source": [
    "#### 15. MiniBatch NMF"
   ]
  },
  {
   "cell_type": "code",
   "execution_count": 68,
   "id": "6c0eaf94-76fc-4300-bb16-b6031e70123c",
   "metadata": {},
   "outputs": [
    {
     "data": {
      "text/plain": [
       "{'alpha_H': 'same',\n",
       " 'alpha_W': 0.0,\n",
       " 'batch_size': 1024,\n",
       " 'beta_loss': 'frobenius',\n",
       " 'forget_factor': 0.7,\n",
       " 'fresh_restarts': False,\n",
       " 'fresh_restarts_max_iter': 30,\n",
       " 'init': None,\n",
       " 'l1_ratio': 0.0,\n",
       " 'max_iter': 200,\n",
       " 'max_no_improvement': 10,\n",
       " 'n_components': 3,\n",
       " 'random_state': None,\n",
       " 'tol': 0.0001,\n",
       " 'transform_max_iter': None,\n",
       " 'verbose': 0}"
      ]
     },
     "execution_count": 68,
     "metadata": {},
     "output_type": "execute_result"
    }
   ],
   "source": [
    "from sklearn.decomposition import MiniBatchNMF\n",
    "mb_nmf = MiniBatchNMF(n_components=3)\n",
    "mb_nmf.get_params()"
   ]
  },
  {
   "cell_type": "markdown",
   "id": "6670300a-eec9-4a03-987a-df26683b181a",
   "metadata": {},
   "source": [
    "#### Dimension reduction using minibatch NMF"
   ]
  },
  {
   "cell_type": "code",
   "execution_count": 69,
   "id": "b0c5ee17-b516-4115-af9a-be0898a3f0ef",
   "metadata": {},
   "outputs": [
    {
     "data": {
      "text/plain": [
       "((2350, 3), (588, 3))"
      ]
     },
     "execution_count": 69,
     "metadata": {},
     "output_type": "execute_result"
    }
   ],
   "source": [
    "X_train_reduced = mb_nmf.fit_transform(X_train_scaled)\n",
    "X_test_reduced = mb_nmf.transform(X_test_scaled)\n",
    "X_train_reduced.shape,X_test_reduced.shape"
   ]
  },
  {
   "cell_type": "markdown",
   "id": "50b20bb2-d9da-4d80-a2fa-e33a07bc4bd1",
   "metadata": {},
   "source": [
    "#### Model trained on dimension reduced data"
   ]
  },
  {
   "cell_type": "code",
   "execution_count": 70,
   "id": "5210f5b0-baac-48e2-875a-6563af70aa3f",
   "metadata": {},
   "outputs": [
    {
     "data": {
      "text/html": [
       "<style>#sk-container-id-15 {color: black;background-color: white;}#sk-container-id-15 pre{padding: 0;}#sk-container-id-15 div.sk-toggleable {background-color: white;}#sk-container-id-15 label.sk-toggleable__label {cursor: pointer;display: block;width: 100%;margin-bottom: 0;padding: 0.3em;box-sizing: border-box;text-align: center;}#sk-container-id-15 label.sk-toggleable__label-arrow:before {content: \"▸\";float: left;margin-right: 0.25em;color: #696969;}#sk-container-id-15 label.sk-toggleable__label-arrow:hover:before {color: black;}#sk-container-id-15 div.sk-estimator:hover label.sk-toggleable__label-arrow:before {color: black;}#sk-container-id-15 div.sk-toggleable__content {max-height: 0;max-width: 0;overflow: hidden;text-align: left;background-color: #f0f8ff;}#sk-container-id-15 div.sk-toggleable__content pre {margin: 0.2em;color: black;border-radius: 0.25em;background-color: #f0f8ff;}#sk-container-id-15 input.sk-toggleable__control:checked~div.sk-toggleable__content {max-height: 200px;max-width: 100%;overflow: auto;}#sk-container-id-15 input.sk-toggleable__control:checked~label.sk-toggleable__label-arrow:before {content: \"▾\";}#sk-container-id-15 div.sk-estimator input.sk-toggleable__control:checked~label.sk-toggleable__label {background-color: #d4ebff;}#sk-container-id-15 div.sk-label input.sk-toggleable__control:checked~label.sk-toggleable__label {background-color: #d4ebff;}#sk-container-id-15 input.sk-hidden--visually {border: 0;clip: rect(1px 1px 1px 1px);clip: rect(1px, 1px, 1px, 1px);height: 1px;margin: -1px;overflow: hidden;padding: 0;position: absolute;width: 1px;}#sk-container-id-15 div.sk-estimator {font-family: monospace;background-color: #f0f8ff;border: 1px dotted black;border-radius: 0.25em;box-sizing: border-box;margin-bottom: 0.5em;}#sk-container-id-15 div.sk-estimator:hover {background-color: #d4ebff;}#sk-container-id-15 div.sk-parallel-item::after {content: \"\";width: 100%;border-bottom: 1px solid gray;flex-grow: 1;}#sk-container-id-15 div.sk-label:hover label.sk-toggleable__label {background-color: #d4ebff;}#sk-container-id-15 div.sk-serial::before {content: \"\";position: absolute;border-left: 1px solid gray;box-sizing: border-box;top: 0;bottom: 0;left: 50%;z-index: 0;}#sk-container-id-15 div.sk-serial {display: flex;flex-direction: column;align-items: center;background-color: white;padding-right: 0.2em;padding-left: 0.2em;position: relative;}#sk-container-id-15 div.sk-item {position: relative;z-index: 1;}#sk-container-id-15 div.sk-parallel {display: flex;align-items: stretch;justify-content: center;background-color: white;position: relative;}#sk-container-id-15 div.sk-item::before, #sk-container-id-15 div.sk-parallel-item::before {content: \"\";position: absolute;border-left: 1px solid gray;box-sizing: border-box;top: 0;bottom: 0;left: 50%;z-index: -1;}#sk-container-id-15 div.sk-parallel-item {display: flex;flex-direction: column;z-index: 1;position: relative;background-color: white;}#sk-container-id-15 div.sk-parallel-item:first-child::after {align-self: flex-end;width: 50%;}#sk-container-id-15 div.sk-parallel-item:last-child::after {align-self: flex-start;width: 50%;}#sk-container-id-15 div.sk-parallel-item:only-child::after {width: 0;}#sk-container-id-15 div.sk-dashed-wrapped {border: 1px dashed gray;margin: 0 0.4em 0.5em 0.4em;box-sizing: border-box;padding-bottom: 0.4em;background-color: white;}#sk-container-id-15 div.sk-label label {font-family: monospace;font-weight: bold;display: inline-block;line-height: 1.2em;}#sk-container-id-15 div.sk-label-container {text-align: center;}#sk-container-id-15 div.sk-container {/* jupyter's `normalize.less` sets `[hidden] { display: none; }` but bootstrap.min.css set `[hidden] { display: none !important; }` so we also need the `!important` here to be able to override the default hidden behavior on the sphinx rendered scikit-learn.org. See: https://github.com/scikit-learn/scikit-learn/issues/21755 */display: inline-block !important;position: relative;}#sk-container-id-15 div.sk-text-repr-fallback {display: none;}</style><div id=\"sk-container-id-15\" class=\"sk-top-container\"><div class=\"sk-text-repr-fallback\"><pre>SVR()</pre><b>In a Jupyter environment, please rerun this cell to show the HTML representation or trust the notebook. <br />On GitHub, the HTML representation is unable to render, please try loading this page with nbviewer.org.</b></div><div class=\"sk-container\" hidden><div class=\"sk-item\"><div class=\"sk-estimator sk-toggleable\"><input class=\"sk-toggleable__control sk-hidden--visually\" id=\"sk-estimator-id-15\" type=\"checkbox\" checked><label for=\"sk-estimator-id-15\" class=\"sk-toggleable__label sk-toggleable__label-arrow\">SVR</label><div class=\"sk-toggleable__content\"><pre>SVR()</pre></div></div></div></div></div>"
      ],
      "text/plain": [
       "SVR()"
      ]
     },
     "execution_count": 70,
     "metadata": {},
     "output_type": "execute_result"
    }
   ],
   "source": [
    "svr.fit(X_train_reduced, y_train)"
   ]
  },
  {
   "cell_type": "markdown",
   "id": "1b92f04e-c477-412f-ac31-7fc6a5e4e895",
   "metadata": {},
   "source": [
    "#### Model Evaluation"
   ]
  },
  {
   "cell_type": "code",
   "execution_count": 71,
   "id": "a4efd929-9dde-46af-a500-b38ff4c92f45",
   "metadata": {},
   "outputs": [
    {
     "data": {
      "text/html": [
       "<div>\n",
       "<style scoped>\n",
       "    .dataframe tbody tr th:only-of-type {\n",
       "        vertical-align: middle;\n",
       "    }\n",
       "\n",
       "    .dataframe tbody tr th {\n",
       "        vertical-align: top;\n",
       "    }\n",
       "\n",
       "    .dataframe thead th {\n",
       "        text-align: right;\n",
       "    }\n",
       "</style>\n",
       "<table border=\"1\" class=\"dataframe\">\n",
       "  <thead>\n",
       "    <tr style=\"text-align: right;\">\n",
       "      <th></th>\n",
       "      <th>svm</th>\n",
       "      <th>pls</th>\n",
       "      <th>isomap</th>\n",
       "      <th>lle</th>\n",
       "      <th>spec_emb</th>\n",
       "      <th>mds</th>\n",
       "      <th>tsne</th>\n",
       "      <th>pca</th>\n",
       "      <th>inc-pca</th>\n",
       "      <th>sparse-pca</th>\n",
       "      <th>kernel-pca</th>\n",
       "      <th>tsvd</th>\n",
       "      <th>fast-ica</th>\n",
       "      <th>nmf</th>\n",
       "      <th>mb-nmf</th>\n",
       "    </tr>\n",
       "  </thead>\n",
       "  <tbody>\n",
       "    <tr>\n",
       "      <th>R-squared Score</th>\n",
       "      <td>0.846243</td>\n",
       "      <td>0.802769</td>\n",
       "      <td>0.668215</td>\n",
       "      <td>0.155191</td>\n",
       "      <td>-0.107422</td>\n",
       "      <td>-1.493837</td>\n",
       "      <td>0.644331</td>\n",
       "      <td>0.744923</td>\n",
       "      <td>0.733979</td>\n",
       "      <td>0.743115</td>\n",
       "      <td>0.744921</td>\n",
       "      <td>0.744921</td>\n",
       "      <td>0.742886</td>\n",
       "      <td>0.652845</td>\n",
       "      <td>0.633430</td>\n",
       "    </tr>\n",
       "    <tr>\n",
       "      <th>MSE</th>\n",
       "      <td>13.544659</td>\n",
       "      <td>17.374400</td>\n",
       "      <td>29.227484</td>\n",
       "      <td>74.420566</td>\n",
       "      <td>97.554612</td>\n",
       "      <td>219.686111</td>\n",
       "      <td>31.331487</td>\n",
       "      <td>22.470131</td>\n",
       "      <td>23.434193</td>\n",
       "      <td>22.629376</td>\n",
       "      <td>22.470349</td>\n",
       "      <td>22.470276</td>\n",
       "      <td>22.649623</td>\n",
       "      <td>30.581463</td>\n",
       "      <td>32.291778</td>\n",
       "    </tr>\n",
       "  </tbody>\n",
       "</table>\n",
       "</div>"
      ],
      "text/plain": [
       "                       svm        pls     isomap        lle   spec_emb  \\\n",
       "R-squared Score   0.846243   0.802769   0.668215   0.155191  -0.107422   \n",
       "MSE              13.544659  17.374400  29.227484  74.420566  97.554612   \n",
       "\n",
       "                        mds       tsne        pca    inc-pca  sparse-pca  \\\n",
       "R-squared Score   -1.493837   0.644331   0.744923   0.733979    0.743115   \n",
       "MSE              219.686111  31.331487  22.470131  23.434193   22.629376   \n",
       "\n",
       "                 kernel-pca       tsvd   fast-ica        nmf     mb-nmf  \n",
       "R-squared Score    0.744921   0.744921   0.742886   0.652845   0.633430  \n",
       "MSE               22.470349  22.470276  22.649623  30.581463  32.291778  "
      ]
     },
     "execution_count": 71,
     "metadata": {},
     "output_type": "execute_result"
    }
   ],
   "source": [
    "y_pred = svr.predict(X_test_reduced)\n",
    "evaluations.loc['R-squared Score', 'mb-nmf'] = svr.score(X_test_reduced, y_test)\n",
    "evaluations.loc['MSE', 'mb-nmf'] = mean_squared_error(y_test, y_pred)\n",
    "evaluations"
   ]
  },
  {
   "cell_type": "markdown",
   "id": "f32bc5f8-3222-4955-b468-9048a7cd2493",
   "metadata": {},
   "source": [
    "#### MinibatchNMF gave good results"
   ]
  },
  {
   "cell_type": "code",
   "execution_count": 72,
   "id": "489cca69-fdbb-4608-8652-2ce2132e77f3",
   "metadata": {},
   "outputs": [
    {
     "data": {
      "text/html": [
       "<div>\n",
       "<style scoped>\n",
       "    .dataframe tbody tr th:only-of-type {\n",
       "        vertical-align: middle;\n",
       "    }\n",
       "\n",
       "    .dataframe tbody tr th {\n",
       "        vertical-align: top;\n",
       "    }\n",
       "\n",
       "    .dataframe thead th {\n",
       "        text-align: right;\n",
       "    }\n",
       "</style>\n",
       "<table border=\"1\" class=\"dataframe\">\n",
       "  <thead>\n",
       "    <tr style=\"text-align: right;\">\n",
       "      <th></th>\n",
       "      <th>R-squared Score</th>\n",
       "      <th>MSE</th>\n",
       "    </tr>\n",
       "  </thead>\n",
       "  <tbody>\n",
       "    <tr>\n",
       "      <th>svm</th>\n",
       "      <td>0.846243</td>\n",
       "      <td>13.544659</td>\n",
       "    </tr>\n",
       "    <tr>\n",
       "      <th>pls</th>\n",
       "      <td>0.802769</td>\n",
       "      <td>17.3744</td>\n",
       "    </tr>\n",
       "    <tr>\n",
       "      <th>isomap</th>\n",
       "      <td>0.668215</td>\n",
       "      <td>29.227484</td>\n",
       "    </tr>\n",
       "    <tr>\n",
       "      <th>lle</th>\n",
       "      <td>0.155191</td>\n",
       "      <td>74.420566</td>\n",
       "    </tr>\n",
       "    <tr>\n",
       "      <th>spec_emb</th>\n",
       "      <td>-0.107422</td>\n",
       "      <td>97.554612</td>\n",
       "    </tr>\n",
       "    <tr>\n",
       "      <th>mds</th>\n",
       "      <td>-1.493837</td>\n",
       "      <td>219.686111</td>\n",
       "    </tr>\n",
       "    <tr>\n",
       "      <th>tsne</th>\n",
       "      <td>0.644331</td>\n",
       "      <td>31.331487</td>\n",
       "    </tr>\n",
       "    <tr>\n",
       "      <th>pca</th>\n",
       "      <td>0.744923</td>\n",
       "      <td>22.470131</td>\n",
       "    </tr>\n",
       "    <tr>\n",
       "      <th>inc-pca</th>\n",
       "      <td>0.733979</td>\n",
       "      <td>23.434193</td>\n",
       "    </tr>\n",
       "    <tr>\n",
       "      <th>sparse-pca</th>\n",
       "      <td>0.743115</td>\n",
       "      <td>22.629376</td>\n",
       "    </tr>\n",
       "    <tr>\n",
       "      <th>kernel-pca</th>\n",
       "      <td>0.744921</td>\n",
       "      <td>22.470349</td>\n",
       "    </tr>\n",
       "    <tr>\n",
       "      <th>tsvd</th>\n",
       "      <td>0.744921</td>\n",
       "      <td>22.470276</td>\n",
       "    </tr>\n",
       "    <tr>\n",
       "      <th>fast-ica</th>\n",
       "      <td>0.742886</td>\n",
       "      <td>22.649623</td>\n",
       "    </tr>\n",
       "    <tr>\n",
       "      <th>nmf</th>\n",
       "      <td>0.652845</td>\n",
       "      <td>30.581463</td>\n",
       "    </tr>\n",
       "    <tr>\n",
       "      <th>mb-nmf</th>\n",
       "      <td>0.63343</td>\n",
       "      <td>32.291778</td>\n",
       "    </tr>\n",
       "  </tbody>\n",
       "</table>\n",
       "</div>"
      ],
      "text/plain": [
       "           R-squared Score         MSE\n",
       "svm               0.846243   13.544659\n",
       "pls               0.802769     17.3744\n",
       "isomap            0.668215   29.227484\n",
       "lle               0.155191   74.420566\n",
       "spec_emb         -0.107422   97.554612\n",
       "mds              -1.493837  219.686111\n",
       "tsne              0.644331   31.331487\n",
       "pca               0.744923   22.470131\n",
       "inc-pca           0.733979   23.434193\n",
       "sparse-pca        0.743115   22.629376\n",
       "kernel-pca        0.744921   22.470349\n",
       "tsvd              0.744921   22.470276\n",
       "fast-ica          0.742886   22.649623\n",
       "nmf               0.652845   30.581463\n",
       "mb-nmf             0.63343   32.291778"
      ]
     },
     "execution_count": 72,
     "metadata": {},
     "output_type": "execute_result"
    }
   ],
   "source": [
    "evaluations.T"
   ]
  },
  {
   "cell_type": "code",
   "execution_count": null,
   "id": "45246029-1810-402b-a91d-67a00536bf83",
   "metadata": {},
   "outputs": [],
   "source": []
  }
 ],
 "metadata": {
  "kernelspec": {
   "display_name": "Python 3 (ipykernel)",
   "language": "python",
   "name": "python3"
  },
  "language_info": {
   "codemirror_mode": {
    "name": "ipython",
    "version": 3
   },
   "file_extension": ".py",
   "mimetype": "text/x-python",
   "name": "python",
   "nbconvert_exporter": "python",
   "pygments_lexer": "ipython3",
   "version": "3.11.7"
  }
 },
 "nbformat": 4,
 "nbformat_minor": 5
}
